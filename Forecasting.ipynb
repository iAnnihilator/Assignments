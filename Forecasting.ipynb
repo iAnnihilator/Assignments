{
 "cells": [
  {
   "cell_type": "code",
   "execution_count": 1,
   "id": "e9700365",
   "metadata": {},
   "outputs": [],
   "source": [
    "import os\n",
    "os.chdir('C:\\\\Users\\\\Venki\\\\Desktop\\\\data science\\\\All data')"
   ]
  },
  {
   "cell_type": "code",
   "execution_count": 68,
   "id": "fe5e2b50",
   "metadata": {},
   "outputs": [],
   "source": [
    "import pandas as pd\n",
    "import numpy as np\n",
    "import seaborn as sns\n",
    "import matplotlib.pyplot as plt\n",
    "from matplotlib import pyplot\n",
    "from pandas.plotting import lag_plot\n",
    "from statsmodels.graphics.tsaplots import plot_acf\n",
    "from pandas import DataFrame\n",
    "from pandas import Grouper\n",
    "from datetime import datetime\n",
    "import statsmodels.api as sm\n",
    "from statsmodels.tsa.arima_model import ARIMA\n",
    "from sklearn.metrics import mean_squared_error\n",
    "from math import sqrt\n",
    "from sklearn.metrics import mean_squared_error\n",
    "from statsmodels.tsa.holtwinters import ExponentialSmoothing \n",
    "import warnings\n",
    "warnings.filterwarnings('ignore')"
   ]
  },
  {
   "cell_type": "markdown",
   "id": "35183488",
   "metadata": {},
   "source": [
    "# Cocacola prices"
   ]
  },
  {
   "cell_type": "code",
   "execution_count": 99,
   "id": "e55e5dd1",
   "metadata": {},
   "outputs": [],
   "source": [
    "coco=pd.read_csv('CocaCola_Sales_Rawdata1.csv')"
   ]
  },
  {
   "cell_type": "code",
   "execution_count": 100,
   "id": "9fd1135b",
   "metadata": {
    "scrolled": true
   },
   "outputs": [
    {
     "data": {
      "text/html": [
       "<div>\n",
       "<style scoped>\n",
       "    .dataframe tbody tr th:only-of-type {\n",
       "        vertical-align: middle;\n",
       "    }\n",
       "\n",
       "    .dataframe tbody tr th {\n",
       "        vertical-align: top;\n",
       "    }\n",
       "\n",
       "    .dataframe thead th {\n",
       "        text-align: right;\n",
       "    }\n",
       "</style>\n",
       "<table border=\"1\" class=\"dataframe\">\n",
       "  <thead>\n",
       "    <tr style=\"text-align: right;\">\n",
       "      <th></th>\n",
       "      <th>Quarter</th>\n",
       "      <th>Sales</th>\n",
       "    </tr>\n",
       "  </thead>\n",
       "  <tbody>\n",
       "    <tr>\n",
       "      <th>0</th>\n",
       "      <td>Q1_86</td>\n",
       "      <td>1734.827000</td>\n",
       "    </tr>\n",
       "    <tr>\n",
       "      <th>1</th>\n",
       "      <td>Q2_86</td>\n",
       "      <td>2244.960999</td>\n",
       "    </tr>\n",
       "    <tr>\n",
       "      <th>2</th>\n",
       "      <td>Q3_86</td>\n",
       "      <td>2533.804993</td>\n",
       "    </tr>\n",
       "    <tr>\n",
       "      <th>3</th>\n",
       "      <td>Q4_86</td>\n",
       "      <td>2154.962997</td>\n",
       "    </tr>\n",
       "    <tr>\n",
       "      <th>4</th>\n",
       "      <td>Q1_87</td>\n",
       "      <td>1547.818996</td>\n",
       "    </tr>\n",
       "    <tr>\n",
       "      <th>5</th>\n",
       "      <td>Q2_87</td>\n",
       "      <td>2104.411995</td>\n",
       "    </tr>\n",
       "    <tr>\n",
       "      <th>6</th>\n",
       "      <td>Q3_87</td>\n",
       "      <td>2014.362999</td>\n",
       "    </tr>\n",
       "    <tr>\n",
       "      <th>7</th>\n",
       "      <td>Q4_87</td>\n",
       "      <td>1991.746998</td>\n",
       "    </tr>\n",
       "    <tr>\n",
       "      <th>8</th>\n",
       "      <td>Q1_88</td>\n",
       "      <td>1869.049999</td>\n",
       "    </tr>\n",
       "    <tr>\n",
       "      <th>9</th>\n",
       "      <td>Q2_88</td>\n",
       "      <td>2313.631996</td>\n",
       "    </tr>\n",
       "    <tr>\n",
       "      <th>10</th>\n",
       "      <td>Q3_88</td>\n",
       "      <td>2128.320000</td>\n",
       "    </tr>\n",
       "    <tr>\n",
       "      <th>11</th>\n",
       "      <td>Q4_88</td>\n",
       "      <td>2026.828999</td>\n",
       "    </tr>\n",
       "    <tr>\n",
       "      <th>12</th>\n",
       "      <td>Q1_89</td>\n",
       "      <td>1910.603996</td>\n",
       "    </tr>\n",
       "    <tr>\n",
       "      <th>13</th>\n",
       "      <td>Q2_89</td>\n",
       "      <td>2331.164993</td>\n",
       "    </tr>\n",
       "    <tr>\n",
       "      <th>14</th>\n",
       "      <td>Q3_89</td>\n",
       "      <td>2206.549995</td>\n",
       "    </tr>\n",
       "    <tr>\n",
       "      <th>15</th>\n",
       "      <td>Q4_89</td>\n",
       "      <td>2173.967995</td>\n",
       "    </tr>\n",
       "    <tr>\n",
       "      <th>16</th>\n",
       "      <td>Q1_90</td>\n",
       "      <td>2148.278000</td>\n",
       "    </tr>\n",
       "    <tr>\n",
       "      <th>17</th>\n",
       "      <td>Q2_90</td>\n",
       "      <td>2739.307999</td>\n",
       "    </tr>\n",
       "    <tr>\n",
       "      <th>18</th>\n",
       "      <td>Q3_90</td>\n",
       "      <td>2792.753998</td>\n",
       "    </tr>\n",
       "    <tr>\n",
       "      <th>19</th>\n",
       "      <td>Q4_90</td>\n",
       "      <td>2556.009995</td>\n",
       "    </tr>\n",
       "    <tr>\n",
       "      <th>20</th>\n",
       "      <td>Q1_91</td>\n",
       "      <td>2480.973999</td>\n",
       "    </tr>\n",
       "    <tr>\n",
       "      <th>21</th>\n",
       "      <td>Q2_91</td>\n",
       "      <td>3039.522995</td>\n",
       "    </tr>\n",
       "    <tr>\n",
       "      <th>22</th>\n",
       "      <td>Q3_91</td>\n",
       "      <td>3172.115997</td>\n",
       "    </tr>\n",
       "    <tr>\n",
       "      <th>23</th>\n",
       "      <td>Q4_91</td>\n",
       "      <td>2879.000999</td>\n",
       "    </tr>\n",
       "    <tr>\n",
       "      <th>24</th>\n",
       "      <td>Q1_92</td>\n",
       "      <td>2772.000000</td>\n",
       "    </tr>\n",
       "    <tr>\n",
       "      <th>25</th>\n",
       "      <td>Q2_92</td>\n",
       "      <td>3550.000000</td>\n",
       "    </tr>\n",
       "    <tr>\n",
       "      <th>26</th>\n",
       "      <td>Q3_92</td>\n",
       "      <td>3508.000000</td>\n",
       "    </tr>\n",
       "    <tr>\n",
       "      <th>27</th>\n",
       "      <td>Q4_92</td>\n",
       "      <td>3243.859993</td>\n",
       "    </tr>\n",
       "    <tr>\n",
       "      <th>28</th>\n",
       "      <td>Q1_93</td>\n",
       "      <td>3056.000000</td>\n",
       "    </tr>\n",
       "    <tr>\n",
       "      <th>29</th>\n",
       "      <td>Q2_93</td>\n",
       "      <td>3899.000000</td>\n",
       "    </tr>\n",
       "    <tr>\n",
       "      <th>30</th>\n",
       "      <td>Q3_93</td>\n",
       "      <td>3629.000000</td>\n",
       "    </tr>\n",
       "    <tr>\n",
       "      <th>31</th>\n",
       "      <td>Q4_93</td>\n",
       "      <td>3373.000000</td>\n",
       "    </tr>\n",
       "    <tr>\n",
       "      <th>32</th>\n",
       "      <td>Q1_94</td>\n",
       "      <td>3352.000000</td>\n",
       "    </tr>\n",
       "    <tr>\n",
       "      <th>33</th>\n",
       "      <td>Q2_94</td>\n",
       "      <td>4342.000000</td>\n",
       "    </tr>\n",
       "    <tr>\n",
       "      <th>34</th>\n",
       "      <td>Q3_94</td>\n",
       "      <td>4461.000000</td>\n",
       "    </tr>\n",
       "    <tr>\n",
       "      <th>35</th>\n",
       "      <td>Q4_94</td>\n",
       "      <td>4017.000000</td>\n",
       "    </tr>\n",
       "    <tr>\n",
       "      <th>36</th>\n",
       "      <td>Q1_95</td>\n",
       "      <td>3854.000000</td>\n",
       "    </tr>\n",
       "    <tr>\n",
       "      <th>37</th>\n",
       "      <td>Q2_95</td>\n",
       "      <td>4936.000000</td>\n",
       "    </tr>\n",
       "    <tr>\n",
       "      <th>38</th>\n",
       "      <td>Q3_95</td>\n",
       "      <td>4895.000000</td>\n",
       "    </tr>\n",
       "    <tr>\n",
       "      <th>39</th>\n",
       "      <td>Q4_95</td>\n",
       "      <td>4333.000000</td>\n",
       "    </tr>\n",
       "    <tr>\n",
       "      <th>40</th>\n",
       "      <td>Q1_96</td>\n",
       "      <td>4194.000000</td>\n",
       "    </tr>\n",
       "    <tr>\n",
       "      <th>41</th>\n",
       "      <td>Q2_96</td>\n",
       "      <td>5253.000000</td>\n",
       "    </tr>\n",
       "  </tbody>\n",
       "</table>\n",
       "</div>"
      ],
      "text/plain": [
       "   Quarter        Sales\n",
       "0    Q1_86  1734.827000\n",
       "1    Q2_86  2244.960999\n",
       "2    Q3_86  2533.804993\n",
       "3    Q4_86  2154.962997\n",
       "4    Q1_87  1547.818996\n",
       "5    Q2_87  2104.411995\n",
       "6    Q3_87  2014.362999\n",
       "7    Q4_87  1991.746998\n",
       "8    Q1_88  1869.049999\n",
       "9    Q2_88  2313.631996\n",
       "10   Q3_88  2128.320000\n",
       "11   Q4_88  2026.828999\n",
       "12   Q1_89  1910.603996\n",
       "13   Q2_89  2331.164993\n",
       "14   Q3_89  2206.549995\n",
       "15   Q4_89  2173.967995\n",
       "16   Q1_90  2148.278000\n",
       "17   Q2_90  2739.307999\n",
       "18   Q3_90  2792.753998\n",
       "19   Q4_90  2556.009995\n",
       "20   Q1_91  2480.973999\n",
       "21   Q2_91  3039.522995\n",
       "22   Q3_91  3172.115997\n",
       "23   Q4_91  2879.000999\n",
       "24   Q1_92  2772.000000\n",
       "25   Q2_92  3550.000000\n",
       "26   Q3_92  3508.000000\n",
       "27   Q4_92  3243.859993\n",
       "28   Q1_93  3056.000000\n",
       "29   Q2_93  3899.000000\n",
       "30   Q3_93  3629.000000\n",
       "31   Q4_93  3373.000000\n",
       "32   Q1_94  3352.000000\n",
       "33   Q2_94  4342.000000\n",
       "34   Q3_94  4461.000000\n",
       "35   Q4_94  4017.000000\n",
       "36   Q1_95  3854.000000\n",
       "37   Q2_95  4936.000000\n",
       "38   Q3_95  4895.000000\n",
       "39   Q4_95  4333.000000\n",
       "40   Q1_96  4194.000000\n",
       "41   Q2_96  5253.000000"
      ]
     },
     "execution_count": 100,
     "metadata": {},
     "output_type": "execute_result"
    }
   ],
   "source": [
    "coco"
   ]
  },
  {
   "cell_type": "code",
   "execution_count": 101,
   "id": "aa20d748",
   "metadata": {},
   "outputs": [
    {
     "name": "stdout",
     "output_type": "stream",
     "text": [
      "<class 'pandas.core.frame.DataFrame'>\n",
      "RangeIndex: 42 entries, 0 to 41\n",
      "Data columns (total 2 columns):\n",
      " #   Column   Non-Null Count  Dtype  \n",
      "---  ------   --------------  -----  \n",
      " 0   Quarter  42 non-null     object \n",
      " 1   Sales    42 non-null     float64\n",
      "dtypes: float64(1), object(1)\n",
      "memory usage: 800.0+ bytes\n"
     ]
    }
   ],
   "source": [
    "coco.info()"
   ]
  },
  {
   "cell_type": "code",
   "execution_count": 102,
   "id": "d4ddde6e",
   "metadata": {},
   "outputs": [
    {
     "data": {
      "text/html": [
       "<div>\n",
       "<style scoped>\n",
       "    .dataframe tbody tr th:only-of-type {\n",
       "        vertical-align: middle;\n",
       "    }\n",
       "\n",
       "    .dataframe tbody tr th {\n",
       "        vertical-align: top;\n",
       "    }\n",
       "\n",
       "    .dataframe thead th {\n",
       "        text-align: right;\n",
       "    }\n",
       "</style>\n",
       "<table border=\"1\" class=\"dataframe\">\n",
       "  <thead>\n",
       "    <tr style=\"text-align: right;\">\n",
       "      <th></th>\n",
       "      <th>Sales</th>\n",
       "    </tr>\n",
       "  </thead>\n",
       "  <tbody>\n",
       "    <tr>\n",
       "      <th>count</th>\n",
       "      <td>42.000000</td>\n",
       "    </tr>\n",
       "    <tr>\n",
       "      <th>mean</th>\n",
       "      <td>2994.353308</td>\n",
       "    </tr>\n",
       "    <tr>\n",
       "      <th>std</th>\n",
       "      <td>977.930896</td>\n",
       "    </tr>\n",
       "    <tr>\n",
       "      <th>min</th>\n",
       "      <td>1547.818996</td>\n",
       "    </tr>\n",
       "    <tr>\n",
       "      <th>25%</th>\n",
       "      <td>2159.714247</td>\n",
       "    </tr>\n",
       "    <tr>\n",
       "      <th>50%</th>\n",
       "      <td>2782.376999</td>\n",
       "    </tr>\n",
       "    <tr>\n",
       "      <th>75%</th>\n",
       "      <td>3609.250000</td>\n",
       "    </tr>\n",
       "    <tr>\n",
       "      <th>max</th>\n",
       "      <td>5253.000000</td>\n",
       "    </tr>\n",
       "  </tbody>\n",
       "</table>\n",
       "</div>"
      ],
      "text/plain": [
       "             Sales\n",
       "count    42.000000\n",
       "mean   2994.353308\n",
       "std     977.930896\n",
       "min    1547.818996\n",
       "25%    2159.714247\n",
       "50%    2782.376999\n",
       "75%    3609.250000\n",
       "max    5253.000000"
      ]
     },
     "execution_count": 102,
     "metadata": {},
     "output_type": "execute_result"
    }
   ],
   "source": [
    "coco.describe()"
   ]
  },
  {
   "cell_type": "markdown",
   "id": "8e58d053",
   "metadata": {},
   "source": [
    "# EDA"
   ]
  },
  {
   "cell_type": "code",
   "execution_count": 103,
   "id": "2fc2af21",
   "metadata": {},
   "outputs": [],
   "source": [
    "c = coco.Quarter.str.replace(r'(Q\\d)_(\\d+)',r'19\\2-\\1')"
   ]
  },
  {
   "cell_type": "code",
   "execution_count": 104,
   "id": "8f0696d9",
   "metadata": {},
   "outputs": [],
   "source": [
    "c1=pd.to_datetime(c).dt.strftime('%b-%Y')"
   ]
  },
  {
   "cell_type": "code",
   "execution_count": 105,
   "id": "fd09ea89",
   "metadata": {
    "scrolled": true
   },
   "outputs": [
    {
     "data": {
      "text/plain": [
       "0     Jan-1986\n",
       "1     Apr-1986\n",
       "2     Jul-1986\n",
       "3     Oct-1986\n",
       "4     Jan-1987\n",
       "5     Apr-1987\n",
       "6     Jul-1987\n",
       "7     Oct-1987\n",
       "8     Jan-1988\n",
       "9     Apr-1988\n",
       "10    Jul-1988\n",
       "11    Oct-1988\n",
       "12    Jan-1989\n",
       "13    Apr-1989\n",
       "14    Jul-1989\n",
       "15    Oct-1989\n",
       "16    Jan-1990\n",
       "17    Apr-1990\n",
       "18    Jul-1990\n",
       "19    Oct-1990\n",
       "20    Jan-1991\n",
       "21    Apr-1991\n",
       "22    Jul-1991\n",
       "23    Oct-1991\n",
       "24    Jan-1992\n",
       "25    Apr-1992\n",
       "26    Jul-1992\n",
       "27    Oct-1992\n",
       "28    Jan-1993\n",
       "29    Apr-1993\n",
       "30    Jul-1993\n",
       "31    Oct-1993\n",
       "32    Jan-1994\n",
       "33    Apr-1994\n",
       "34    Jul-1994\n",
       "35    Oct-1994\n",
       "36    Jan-1995\n",
       "37    Apr-1995\n",
       "38    Jul-1995\n",
       "39    Oct-1995\n",
       "40    Jan-1996\n",
       "41    Apr-1996\n",
       "Name: Quarter, dtype: object"
      ]
     },
     "execution_count": 105,
     "metadata": {},
     "output_type": "execute_result"
    }
   ],
   "source": [
    "c1"
   ]
  },
  {
   "cell_type": "code",
   "execution_count": 106,
   "id": "a5d27a4d",
   "metadata": {},
   "outputs": [],
   "source": [
    "coco['date']=c1"
   ]
  },
  {
   "cell_type": "code",
   "execution_count": 107,
   "id": "b341e106",
   "metadata": {},
   "outputs": [
    {
     "data": {
      "text/html": [
       "<div>\n",
       "<style scoped>\n",
       "    .dataframe tbody tr th:only-of-type {\n",
       "        vertical-align: middle;\n",
       "    }\n",
       "\n",
       "    .dataframe tbody tr th {\n",
       "        vertical-align: top;\n",
       "    }\n",
       "\n",
       "    .dataframe thead th {\n",
       "        text-align: right;\n",
       "    }\n",
       "</style>\n",
       "<table border=\"1\" class=\"dataframe\">\n",
       "  <thead>\n",
       "    <tr style=\"text-align: right;\">\n",
       "      <th></th>\n",
       "      <th>Quarter</th>\n",
       "      <th>Sales</th>\n",
       "      <th>date</th>\n",
       "    </tr>\n",
       "  </thead>\n",
       "  <tbody>\n",
       "    <tr>\n",
       "      <th>0</th>\n",
       "      <td>Q1_86</td>\n",
       "      <td>1734.827000</td>\n",
       "      <td>Jan-1986</td>\n",
       "    </tr>\n",
       "    <tr>\n",
       "      <th>1</th>\n",
       "      <td>Q2_86</td>\n",
       "      <td>2244.960999</td>\n",
       "      <td>Apr-1986</td>\n",
       "    </tr>\n",
       "    <tr>\n",
       "      <th>2</th>\n",
       "      <td>Q3_86</td>\n",
       "      <td>2533.804993</td>\n",
       "      <td>Jul-1986</td>\n",
       "    </tr>\n",
       "    <tr>\n",
       "      <th>3</th>\n",
       "      <td>Q4_86</td>\n",
       "      <td>2154.962997</td>\n",
       "      <td>Oct-1986</td>\n",
       "    </tr>\n",
       "    <tr>\n",
       "      <th>4</th>\n",
       "      <td>Q1_87</td>\n",
       "      <td>1547.818996</td>\n",
       "      <td>Jan-1987</td>\n",
       "    </tr>\n",
       "  </tbody>\n",
       "</table>\n",
       "</div>"
      ],
      "text/plain": [
       "  Quarter        Sales      date\n",
       "0   Q1_86  1734.827000  Jan-1986\n",
       "1   Q2_86  2244.960999  Apr-1986\n",
       "2   Q3_86  2533.804993  Jul-1986\n",
       "3   Q4_86  2154.962997  Oct-1986\n",
       "4   Q1_87  1547.818996  Jan-1987"
      ]
     },
     "execution_count": 107,
     "metadata": {},
     "output_type": "execute_result"
    }
   ],
   "source": [
    "coco.head()"
   ]
  },
  {
   "cell_type": "code",
   "execution_count": 108,
   "id": "c41cd8d2",
   "metadata": {},
   "outputs": [],
   "source": [
    "coco1=coco.drop(['Quarter'],axis=1)"
   ]
  },
  {
   "cell_type": "code",
   "execution_count": 109,
   "id": "1923e5b8",
   "metadata": {
    "scrolled": true
   },
   "outputs": [
    {
     "data": {
      "text/html": [
       "<div>\n",
       "<style scoped>\n",
       "    .dataframe tbody tr th:only-of-type {\n",
       "        vertical-align: middle;\n",
       "    }\n",
       "\n",
       "    .dataframe tbody tr th {\n",
       "        vertical-align: top;\n",
       "    }\n",
       "\n",
       "    .dataframe thead th {\n",
       "        text-align: right;\n",
       "    }\n",
       "</style>\n",
       "<table border=\"1\" class=\"dataframe\">\n",
       "  <thead>\n",
       "    <tr style=\"text-align: right;\">\n",
       "      <th></th>\n",
       "      <th>Sales</th>\n",
       "      <th>date</th>\n",
       "    </tr>\n",
       "  </thead>\n",
       "  <tbody>\n",
       "    <tr>\n",
       "      <th>0</th>\n",
       "      <td>1734.827000</td>\n",
       "      <td>Jan-1986</td>\n",
       "    </tr>\n",
       "    <tr>\n",
       "      <th>1</th>\n",
       "      <td>2244.960999</td>\n",
       "      <td>Apr-1986</td>\n",
       "    </tr>\n",
       "    <tr>\n",
       "      <th>2</th>\n",
       "      <td>2533.804993</td>\n",
       "      <td>Jul-1986</td>\n",
       "    </tr>\n",
       "    <tr>\n",
       "      <th>3</th>\n",
       "      <td>2154.962997</td>\n",
       "      <td>Oct-1986</td>\n",
       "    </tr>\n",
       "    <tr>\n",
       "      <th>4</th>\n",
       "      <td>1547.818996</td>\n",
       "      <td>Jan-1987</td>\n",
       "    </tr>\n",
       "    <tr>\n",
       "      <th>5</th>\n",
       "      <td>2104.411995</td>\n",
       "      <td>Apr-1987</td>\n",
       "    </tr>\n",
       "    <tr>\n",
       "      <th>6</th>\n",
       "      <td>2014.362999</td>\n",
       "      <td>Jul-1987</td>\n",
       "    </tr>\n",
       "    <tr>\n",
       "      <th>7</th>\n",
       "      <td>1991.746998</td>\n",
       "      <td>Oct-1987</td>\n",
       "    </tr>\n",
       "    <tr>\n",
       "      <th>8</th>\n",
       "      <td>1869.049999</td>\n",
       "      <td>Jan-1988</td>\n",
       "    </tr>\n",
       "    <tr>\n",
       "      <th>9</th>\n",
       "      <td>2313.631996</td>\n",
       "      <td>Apr-1988</td>\n",
       "    </tr>\n",
       "    <tr>\n",
       "      <th>10</th>\n",
       "      <td>2128.320000</td>\n",
       "      <td>Jul-1988</td>\n",
       "    </tr>\n",
       "    <tr>\n",
       "      <th>11</th>\n",
       "      <td>2026.828999</td>\n",
       "      <td>Oct-1988</td>\n",
       "    </tr>\n",
       "    <tr>\n",
       "      <th>12</th>\n",
       "      <td>1910.603996</td>\n",
       "      <td>Jan-1989</td>\n",
       "    </tr>\n",
       "    <tr>\n",
       "      <th>13</th>\n",
       "      <td>2331.164993</td>\n",
       "      <td>Apr-1989</td>\n",
       "    </tr>\n",
       "    <tr>\n",
       "      <th>14</th>\n",
       "      <td>2206.549995</td>\n",
       "      <td>Jul-1989</td>\n",
       "    </tr>\n",
       "    <tr>\n",
       "      <th>15</th>\n",
       "      <td>2173.967995</td>\n",
       "      <td>Oct-1989</td>\n",
       "    </tr>\n",
       "    <tr>\n",
       "      <th>16</th>\n",
       "      <td>2148.278000</td>\n",
       "      <td>Jan-1990</td>\n",
       "    </tr>\n",
       "    <tr>\n",
       "      <th>17</th>\n",
       "      <td>2739.307999</td>\n",
       "      <td>Apr-1990</td>\n",
       "    </tr>\n",
       "    <tr>\n",
       "      <th>18</th>\n",
       "      <td>2792.753998</td>\n",
       "      <td>Jul-1990</td>\n",
       "    </tr>\n",
       "    <tr>\n",
       "      <th>19</th>\n",
       "      <td>2556.009995</td>\n",
       "      <td>Oct-1990</td>\n",
       "    </tr>\n",
       "    <tr>\n",
       "      <th>20</th>\n",
       "      <td>2480.973999</td>\n",
       "      <td>Jan-1991</td>\n",
       "    </tr>\n",
       "    <tr>\n",
       "      <th>21</th>\n",
       "      <td>3039.522995</td>\n",
       "      <td>Apr-1991</td>\n",
       "    </tr>\n",
       "    <tr>\n",
       "      <th>22</th>\n",
       "      <td>3172.115997</td>\n",
       "      <td>Jul-1991</td>\n",
       "    </tr>\n",
       "    <tr>\n",
       "      <th>23</th>\n",
       "      <td>2879.000999</td>\n",
       "      <td>Oct-1991</td>\n",
       "    </tr>\n",
       "    <tr>\n",
       "      <th>24</th>\n",
       "      <td>2772.000000</td>\n",
       "      <td>Jan-1992</td>\n",
       "    </tr>\n",
       "    <tr>\n",
       "      <th>25</th>\n",
       "      <td>3550.000000</td>\n",
       "      <td>Apr-1992</td>\n",
       "    </tr>\n",
       "    <tr>\n",
       "      <th>26</th>\n",
       "      <td>3508.000000</td>\n",
       "      <td>Jul-1992</td>\n",
       "    </tr>\n",
       "    <tr>\n",
       "      <th>27</th>\n",
       "      <td>3243.859993</td>\n",
       "      <td>Oct-1992</td>\n",
       "    </tr>\n",
       "    <tr>\n",
       "      <th>28</th>\n",
       "      <td>3056.000000</td>\n",
       "      <td>Jan-1993</td>\n",
       "    </tr>\n",
       "    <tr>\n",
       "      <th>29</th>\n",
       "      <td>3899.000000</td>\n",
       "      <td>Apr-1993</td>\n",
       "    </tr>\n",
       "    <tr>\n",
       "      <th>30</th>\n",
       "      <td>3629.000000</td>\n",
       "      <td>Jul-1993</td>\n",
       "    </tr>\n",
       "    <tr>\n",
       "      <th>31</th>\n",
       "      <td>3373.000000</td>\n",
       "      <td>Oct-1993</td>\n",
       "    </tr>\n",
       "    <tr>\n",
       "      <th>32</th>\n",
       "      <td>3352.000000</td>\n",
       "      <td>Jan-1994</td>\n",
       "    </tr>\n",
       "    <tr>\n",
       "      <th>33</th>\n",
       "      <td>4342.000000</td>\n",
       "      <td>Apr-1994</td>\n",
       "    </tr>\n",
       "    <tr>\n",
       "      <th>34</th>\n",
       "      <td>4461.000000</td>\n",
       "      <td>Jul-1994</td>\n",
       "    </tr>\n",
       "    <tr>\n",
       "      <th>35</th>\n",
       "      <td>4017.000000</td>\n",
       "      <td>Oct-1994</td>\n",
       "    </tr>\n",
       "    <tr>\n",
       "      <th>36</th>\n",
       "      <td>3854.000000</td>\n",
       "      <td>Jan-1995</td>\n",
       "    </tr>\n",
       "    <tr>\n",
       "      <th>37</th>\n",
       "      <td>4936.000000</td>\n",
       "      <td>Apr-1995</td>\n",
       "    </tr>\n",
       "    <tr>\n",
       "      <th>38</th>\n",
       "      <td>4895.000000</td>\n",
       "      <td>Jul-1995</td>\n",
       "    </tr>\n",
       "    <tr>\n",
       "      <th>39</th>\n",
       "      <td>4333.000000</td>\n",
       "      <td>Oct-1995</td>\n",
       "    </tr>\n",
       "    <tr>\n",
       "      <th>40</th>\n",
       "      <td>4194.000000</td>\n",
       "      <td>Jan-1996</td>\n",
       "    </tr>\n",
       "    <tr>\n",
       "      <th>41</th>\n",
       "      <td>5253.000000</td>\n",
       "      <td>Apr-1996</td>\n",
       "    </tr>\n",
       "  </tbody>\n",
       "</table>\n",
       "</div>"
      ],
      "text/plain": [
       "          Sales      date\n",
       "0   1734.827000  Jan-1986\n",
       "1   2244.960999  Apr-1986\n",
       "2   2533.804993  Jul-1986\n",
       "3   2154.962997  Oct-1986\n",
       "4   1547.818996  Jan-1987\n",
       "5   2104.411995  Apr-1987\n",
       "6   2014.362999  Jul-1987\n",
       "7   1991.746998  Oct-1987\n",
       "8   1869.049999  Jan-1988\n",
       "9   2313.631996  Apr-1988\n",
       "10  2128.320000  Jul-1988\n",
       "11  2026.828999  Oct-1988\n",
       "12  1910.603996  Jan-1989\n",
       "13  2331.164993  Apr-1989\n",
       "14  2206.549995  Jul-1989\n",
       "15  2173.967995  Oct-1989\n",
       "16  2148.278000  Jan-1990\n",
       "17  2739.307999  Apr-1990\n",
       "18  2792.753998  Jul-1990\n",
       "19  2556.009995  Oct-1990\n",
       "20  2480.973999  Jan-1991\n",
       "21  3039.522995  Apr-1991\n",
       "22  3172.115997  Jul-1991\n",
       "23  2879.000999  Oct-1991\n",
       "24  2772.000000  Jan-1992\n",
       "25  3550.000000  Apr-1992\n",
       "26  3508.000000  Jul-1992\n",
       "27  3243.859993  Oct-1992\n",
       "28  3056.000000  Jan-1993\n",
       "29  3899.000000  Apr-1993\n",
       "30  3629.000000  Jul-1993\n",
       "31  3373.000000  Oct-1993\n",
       "32  3352.000000  Jan-1994\n",
       "33  4342.000000  Apr-1994\n",
       "34  4461.000000  Jul-1994\n",
       "35  4017.000000  Oct-1994\n",
       "36  3854.000000  Jan-1995\n",
       "37  4936.000000  Apr-1995\n",
       "38  4895.000000  Jul-1995\n",
       "39  4333.000000  Oct-1995\n",
       "40  4194.000000  Jan-1996\n",
       "41  5253.000000  Apr-1996"
      ]
     },
     "execution_count": 109,
     "metadata": {},
     "output_type": "execute_result"
    }
   ],
   "source": [
    "coco1"
   ]
  },
  {
   "cell_type": "code",
   "execution_count": 110,
   "id": "996ddb3c",
   "metadata": {},
   "outputs": [],
   "source": [
    "coco1['date']=pd.to_datetime(coco1['date'])"
   ]
  },
  {
   "cell_type": "code",
   "execution_count": 111,
   "id": "17f0f735",
   "metadata": {},
   "outputs": [],
   "source": [
    "coco1.set_index('date',inplace=True)"
   ]
  },
  {
   "cell_type": "code",
   "execution_count": 112,
   "id": "82fe18c7",
   "metadata": {
    "scrolled": true
   },
   "outputs": [
    {
     "data": {
      "text/html": [
       "<div>\n",
       "<style scoped>\n",
       "    .dataframe tbody tr th:only-of-type {\n",
       "        vertical-align: middle;\n",
       "    }\n",
       "\n",
       "    .dataframe tbody tr th {\n",
       "        vertical-align: top;\n",
       "    }\n",
       "\n",
       "    .dataframe thead th {\n",
       "        text-align: right;\n",
       "    }\n",
       "</style>\n",
       "<table border=\"1\" class=\"dataframe\">\n",
       "  <thead>\n",
       "    <tr style=\"text-align: right;\">\n",
       "      <th></th>\n",
       "      <th>Sales</th>\n",
       "    </tr>\n",
       "    <tr>\n",
       "      <th>date</th>\n",
       "      <th></th>\n",
       "    </tr>\n",
       "  </thead>\n",
       "  <tbody>\n",
       "    <tr>\n",
       "      <th>1986-01-01</th>\n",
       "      <td>1734.827000</td>\n",
       "    </tr>\n",
       "    <tr>\n",
       "      <th>1986-04-01</th>\n",
       "      <td>2244.960999</td>\n",
       "    </tr>\n",
       "    <tr>\n",
       "      <th>1986-07-01</th>\n",
       "      <td>2533.804993</td>\n",
       "    </tr>\n",
       "    <tr>\n",
       "      <th>1986-10-01</th>\n",
       "      <td>2154.962997</td>\n",
       "    </tr>\n",
       "    <tr>\n",
       "      <th>1987-01-01</th>\n",
       "      <td>1547.818996</td>\n",
       "    </tr>\n",
       "    <tr>\n",
       "      <th>1987-04-01</th>\n",
       "      <td>2104.411995</td>\n",
       "    </tr>\n",
       "    <tr>\n",
       "      <th>1987-07-01</th>\n",
       "      <td>2014.362999</td>\n",
       "    </tr>\n",
       "    <tr>\n",
       "      <th>1987-10-01</th>\n",
       "      <td>1991.746998</td>\n",
       "    </tr>\n",
       "    <tr>\n",
       "      <th>1988-01-01</th>\n",
       "      <td>1869.049999</td>\n",
       "    </tr>\n",
       "    <tr>\n",
       "      <th>1988-04-01</th>\n",
       "      <td>2313.631996</td>\n",
       "    </tr>\n",
       "    <tr>\n",
       "      <th>1988-07-01</th>\n",
       "      <td>2128.320000</td>\n",
       "    </tr>\n",
       "    <tr>\n",
       "      <th>1988-10-01</th>\n",
       "      <td>2026.828999</td>\n",
       "    </tr>\n",
       "    <tr>\n",
       "      <th>1989-01-01</th>\n",
       "      <td>1910.603996</td>\n",
       "    </tr>\n",
       "    <tr>\n",
       "      <th>1989-04-01</th>\n",
       "      <td>2331.164993</td>\n",
       "    </tr>\n",
       "    <tr>\n",
       "      <th>1989-07-01</th>\n",
       "      <td>2206.549995</td>\n",
       "    </tr>\n",
       "    <tr>\n",
       "      <th>1989-10-01</th>\n",
       "      <td>2173.967995</td>\n",
       "    </tr>\n",
       "    <tr>\n",
       "      <th>1990-01-01</th>\n",
       "      <td>2148.278000</td>\n",
       "    </tr>\n",
       "    <tr>\n",
       "      <th>1990-04-01</th>\n",
       "      <td>2739.307999</td>\n",
       "    </tr>\n",
       "    <tr>\n",
       "      <th>1990-07-01</th>\n",
       "      <td>2792.753998</td>\n",
       "    </tr>\n",
       "    <tr>\n",
       "      <th>1990-10-01</th>\n",
       "      <td>2556.009995</td>\n",
       "    </tr>\n",
       "    <tr>\n",
       "      <th>1991-01-01</th>\n",
       "      <td>2480.973999</td>\n",
       "    </tr>\n",
       "    <tr>\n",
       "      <th>1991-04-01</th>\n",
       "      <td>3039.522995</td>\n",
       "    </tr>\n",
       "    <tr>\n",
       "      <th>1991-07-01</th>\n",
       "      <td>3172.115997</td>\n",
       "    </tr>\n",
       "    <tr>\n",
       "      <th>1991-10-01</th>\n",
       "      <td>2879.000999</td>\n",
       "    </tr>\n",
       "    <tr>\n",
       "      <th>1992-01-01</th>\n",
       "      <td>2772.000000</td>\n",
       "    </tr>\n",
       "    <tr>\n",
       "      <th>1992-04-01</th>\n",
       "      <td>3550.000000</td>\n",
       "    </tr>\n",
       "    <tr>\n",
       "      <th>1992-07-01</th>\n",
       "      <td>3508.000000</td>\n",
       "    </tr>\n",
       "    <tr>\n",
       "      <th>1992-10-01</th>\n",
       "      <td>3243.859993</td>\n",
       "    </tr>\n",
       "    <tr>\n",
       "      <th>1993-01-01</th>\n",
       "      <td>3056.000000</td>\n",
       "    </tr>\n",
       "    <tr>\n",
       "      <th>1993-04-01</th>\n",
       "      <td>3899.000000</td>\n",
       "    </tr>\n",
       "    <tr>\n",
       "      <th>1993-07-01</th>\n",
       "      <td>3629.000000</td>\n",
       "    </tr>\n",
       "    <tr>\n",
       "      <th>1993-10-01</th>\n",
       "      <td>3373.000000</td>\n",
       "    </tr>\n",
       "    <tr>\n",
       "      <th>1994-01-01</th>\n",
       "      <td>3352.000000</td>\n",
       "    </tr>\n",
       "    <tr>\n",
       "      <th>1994-04-01</th>\n",
       "      <td>4342.000000</td>\n",
       "    </tr>\n",
       "    <tr>\n",
       "      <th>1994-07-01</th>\n",
       "      <td>4461.000000</td>\n",
       "    </tr>\n",
       "    <tr>\n",
       "      <th>1994-10-01</th>\n",
       "      <td>4017.000000</td>\n",
       "    </tr>\n",
       "    <tr>\n",
       "      <th>1995-01-01</th>\n",
       "      <td>3854.000000</td>\n",
       "    </tr>\n",
       "    <tr>\n",
       "      <th>1995-04-01</th>\n",
       "      <td>4936.000000</td>\n",
       "    </tr>\n",
       "    <tr>\n",
       "      <th>1995-07-01</th>\n",
       "      <td>4895.000000</td>\n",
       "    </tr>\n",
       "    <tr>\n",
       "      <th>1995-10-01</th>\n",
       "      <td>4333.000000</td>\n",
       "    </tr>\n",
       "    <tr>\n",
       "      <th>1996-01-01</th>\n",
       "      <td>4194.000000</td>\n",
       "    </tr>\n",
       "    <tr>\n",
       "      <th>1996-04-01</th>\n",
       "      <td>5253.000000</td>\n",
       "    </tr>\n",
       "  </tbody>\n",
       "</table>\n",
       "</div>"
      ],
      "text/plain": [
       "                  Sales\n",
       "date                   \n",
       "1986-01-01  1734.827000\n",
       "1986-04-01  2244.960999\n",
       "1986-07-01  2533.804993\n",
       "1986-10-01  2154.962997\n",
       "1987-01-01  1547.818996\n",
       "1987-04-01  2104.411995\n",
       "1987-07-01  2014.362999\n",
       "1987-10-01  1991.746998\n",
       "1988-01-01  1869.049999\n",
       "1988-04-01  2313.631996\n",
       "1988-07-01  2128.320000\n",
       "1988-10-01  2026.828999\n",
       "1989-01-01  1910.603996\n",
       "1989-04-01  2331.164993\n",
       "1989-07-01  2206.549995\n",
       "1989-10-01  2173.967995\n",
       "1990-01-01  2148.278000\n",
       "1990-04-01  2739.307999\n",
       "1990-07-01  2792.753998\n",
       "1990-10-01  2556.009995\n",
       "1991-01-01  2480.973999\n",
       "1991-04-01  3039.522995\n",
       "1991-07-01  3172.115997\n",
       "1991-10-01  2879.000999\n",
       "1992-01-01  2772.000000\n",
       "1992-04-01  3550.000000\n",
       "1992-07-01  3508.000000\n",
       "1992-10-01  3243.859993\n",
       "1993-01-01  3056.000000\n",
       "1993-04-01  3899.000000\n",
       "1993-07-01  3629.000000\n",
       "1993-10-01  3373.000000\n",
       "1994-01-01  3352.000000\n",
       "1994-04-01  4342.000000\n",
       "1994-07-01  4461.000000\n",
       "1994-10-01  4017.000000\n",
       "1995-01-01  3854.000000\n",
       "1995-04-01  4936.000000\n",
       "1995-07-01  4895.000000\n",
       "1995-10-01  4333.000000\n",
       "1996-01-01  4194.000000\n",
       "1996-04-01  5253.000000"
      ]
     },
     "execution_count": 112,
     "metadata": {},
     "output_type": "execute_result"
    }
   ],
   "source": [
    "coco1"
   ]
  },
  {
   "cell_type": "markdown",
   "id": "7fe389cb",
   "metadata": {},
   "source": [
    "# Visualisation"
   ]
  },
  {
   "cell_type": "code",
   "execution_count": 41,
   "id": "377816ad",
   "metadata": {},
   "outputs": [
    {
     "data": {
      "image/png": "[encoded data removed]",
      "text/plain": [
       "<Figure size 432x288 with 1 Axes>"
      ]
     },
     "metadata": {
      "needs_background": "light"
     },
     "output_type": "display_data"
    }
   ],
   "source": [
    "coco1.plot()\n",
    "pyplot.show()"
   ]
  },
  {
   "cell_type": "code",
   "execution_count": 42,
   "id": "4175982c",
   "metadata": {},
   "outputs": [
    {
     "data": {
      "image/png": "[encoded data removed]",
      "text/plain": [
       "<Figure size 432x288 with 1 Axes>"
      ]
     },
     "metadata": {
      "needs_background": "light"
     },
     "output_type": "display_data"
    }
   ],
   "source": [
    "coco1.plot(kind='kde')\n",
    "pyplot.show()"
   ]
  },
  {
   "cell_type": "code",
   "execution_count": 43,
   "id": "caca87de",
   "metadata": {},
   "outputs": [
    {
     "data": {
      "image/png": "[encoded data removed]",
      "text/plain": [
       "<Figure size 432x288 with 1 Axes>"
      ]
     },
     "metadata": {
      "needs_background": "light"
     },
     "output_type": "display_data"
    }
   ],
   "source": [
    "coco1.hist()\n",
    "pyplot.show()"
   ]
  },
  {
   "cell_type": "code",
   "execution_count": 44,
   "id": "e1ff4071",
   "metadata": {},
   "outputs": [
    {
     "data": {
      "image/png": "[encoded data removed]",
      "text/plain": [
       "<Figure size 432x288 with 1 Axes>"
      ]
     },
     "metadata": {
      "needs_background": "light"
     },
     "output_type": "display_data"
    }
   ],
   "source": [
    "lag_plot(coco1)\n",
    "pyplot.show()"
   ]
  },
  {
   "cell_type": "code",
   "execution_count": 45,
   "id": "811331aa",
   "metadata": {},
   "outputs": [
    {
     "data": {
      "image/png": "[encoded data removed]",
      "text/plain": [
       "<Figure size 432x288 with 4 Axes>"
      ]
     },
     "metadata": {
      "needs_background": "light"
     },
     "output_type": "display_data"
    }
   ],
   "source": [
    "decomposition = sm.tsa.seasonal_decompose(coco1,model='additive')\n",
    "fig = decomposition.plot()\n",
    "plt.show()"
   ]
  },
  {
   "cell_type": "code",
   "execution_count": 46,
   "id": "1add52f3",
   "metadata": {},
   "outputs": [],
   "source": [
    "coco1['Sales']=np.sqrt(coco1['Sales'])"
   ]
  },
  {
   "cell_type": "code",
   "execution_count": 47,
   "id": "5bd067ac",
   "metadata": {},
   "outputs": [
    {
     "data": {
      "image/png": "[encoded data removed]",
      "text/plain": [
       "<Figure size 432x288 with 1 Axes>"
      ]
     },
     "metadata": {
      "needs_background": "light"
     },
     "output_type": "display_data"
    }
   ],
   "source": [
    "coco1.hist()\n",
    "pyplot.show()"
   ]
  },
  {
   "cell_type": "code",
   "execution_count": 51,
   "id": "c350580d",
   "metadata": {
    "scrolled": true
   },
   "outputs": [
    {
     "data": {
      "text/plain": [
       "42"
      ]
     },
     "execution_count": 51,
     "metadata": {},
     "output_type": "execute_result"
    }
   ],
   "source": [
    "coco1.size"
   ]
  },
  {
   "cell_type": "code",
   "execution_count": 52,
   "id": "238fdc60",
   "metadata": {},
   "outputs": [
    {
     "data": {
      "text/plain": [
       "<matplotlib.legend.Legend at 0x1d5b54a48e0>"
      ]
     },
     "execution_count": 52,
     "metadata": {},
     "output_type": "execute_result"
    },
    {
     "data": {
      "image/png": "[encoded data removed]",
      "text/plain": [
       "<Figure size 864x288 with 1 Axes>"
      ]
     },
     "metadata": {
      "needs_background": "light"
     },
     "output_type": "display_data"
    }
   ],
   "source": [
    "plt.figure(figsize=(12,4))\n",
    "coco1.Sales.plot(label=\"org\")\n",
    "for i in range(2,12,4):\n",
    "    coco1[\"Sales\"].rolling(i).mean().plot(label=str(i))\n",
    "plt.legend(loc='best')"
   ]
  },
  {
   "cell_type": "code",
   "execution_count": 53,
   "id": "9463a416",
   "metadata": {
    "scrolled": true
   },
   "outputs": [
    {
     "data": {
      "text/html": [
       "<div>\n",
       "<style scoped>\n",
       "    .dataframe tbody tr th:only-of-type {\n",
       "        vertical-align: middle;\n",
       "    }\n",
       "\n",
       "    .dataframe tbody tr th {\n",
       "        vertical-align: top;\n",
       "    }\n",
       "\n",
       "    .dataframe thead th {\n",
       "        text-align: right;\n",
       "    }\n",
       "</style>\n",
       "<table border=\"1\" class=\"dataframe\">\n",
       "  <thead>\n",
       "    <tr style=\"text-align: right;\">\n",
       "      <th></th>\n",
       "      <th>Sales</th>\n",
       "    </tr>\n",
       "    <tr>\n",
       "      <th>date</th>\n",
       "      <th></th>\n",
       "    </tr>\n",
       "  </thead>\n",
       "  <tbody>\n",
       "    <tr>\n",
       "      <th>1986-01-01</th>\n",
       "      <td>41.651254</td>\n",
       "    </tr>\n",
       "    <tr>\n",
       "      <th>1986-04-01</th>\n",
       "      <td>47.381019</td>\n",
       "    </tr>\n",
       "    <tr>\n",
       "      <th>1986-07-01</th>\n",
       "      <td>50.336915</td>\n",
       "    </tr>\n",
       "    <tr>\n",
       "      <th>1986-10-01</th>\n",
       "      <td>46.421579</td>\n",
       "    </tr>\n",
       "    <tr>\n",
       "      <th>1987-01-01</th>\n",
       "      <td>39.342331</td>\n",
       "    </tr>\n",
       "    <tr>\n",
       "      <th>1987-04-01</th>\n",
       "      <td>45.873871</td>\n",
       "    </tr>\n",
       "    <tr>\n",
       "      <th>1987-07-01</th>\n",
       "      <td>44.881655</td>\n",
       "    </tr>\n",
       "    <tr>\n",
       "      <th>1987-10-01</th>\n",
       "      <td>44.628993</td>\n",
       "    </tr>\n",
       "    <tr>\n",
       "      <th>1988-01-01</th>\n",
       "      <td>43.232511</td>\n",
       "    </tr>\n",
       "    <tr>\n",
       "      <th>1988-04-01</th>\n",
       "      <td>48.100229</td>\n",
       "    </tr>\n",
       "    <tr>\n",
       "      <th>1988-07-01</th>\n",
       "      <td>46.133719</td>\n",
       "    </tr>\n",
       "    <tr>\n",
       "      <th>1988-10-01</th>\n",
       "      <td>45.020318</td>\n",
       "    </tr>\n",
       "    <tr>\n",
       "      <th>1989-01-01</th>\n",
       "      <td>43.710456</td>\n",
       "    </tr>\n",
       "    <tr>\n",
       "      <th>1989-04-01</th>\n",
       "      <td>48.282139</td>\n",
       "    </tr>\n",
       "    <tr>\n",
       "      <th>1989-07-01</th>\n",
       "      <td>46.973929</td>\n",
       "    </tr>\n",
       "    <tr>\n",
       "      <th>1989-10-01</th>\n",
       "      <td>46.625830</td>\n",
       "    </tr>\n",
       "    <tr>\n",
       "      <th>1990-01-01</th>\n",
       "      <td>46.349520</td>\n",
       "    </tr>\n",
       "    <tr>\n",
       "      <th>1990-04-01</th>\n",
       "      <td>52.338399</td>\n",
       "    </tr>\n",
       "    <tr>\n",
       "      <th>1990-07-01</th>\n",
       "      <td>52.846514</td>\n",
       "    </tr>\n",
       "    <tr>\n",
       "      <th>1990-10-01</th>\n",
       "      <td>50.556997</td>\n",
       "    </tr>\n",
       "    <tr>\n",
       "      <th>1991-01-01</th>\n",
       "      <td>49.809377</td>\n",
       "    </tr>\n",
       "    <tr>\n",
       "      <th>1991-04-01</th>\n",
       "      <td>55.131869</td>\n",
       "    </tr>\n",
       "    <tr>\n",
       "      <th>1991-07-01</th>\n",
       "      <td>56.321541</td>\n",
       "    </tr>\n",
       "    <tr>\n",
       "      <th>1991-10-01</th>\n",
       "      <td>53.656323</td>\n",
       "    </tr>\n",
       "    <tr>\n",
       "      <th>1992-01-01</th>\n",
       "      <td>52.649786</td>\n",
       "    </tr>\n",
       "    <tr>\n",
       "      <th>1992-04-01</th>\n",
       "      <td>59.581876</td>\n",
       "    </tr>\n",
       "    <tr>\n",
       "      <th>1992-07-01</th>\n",
       "      <td>59.228372</td>\n",
       "    </tr>\n",
       "    <tr>\n",
       "      <th>1992-10-01</th>\n",
       "      <td>56.954894</td>\n",
       "    </tr>\n",
       "    <tr>\n",
       "      <th>1993-01-01</th>\n",
       "      <td>55.281100</td>\n",
       "    </tr>\n",
       "    <tr>\n",
       "      <th>1993-04-01</th>\n",
       "      <td>62.441973</td>\n",
       "    </tr>\n",
       "    <tr>\n",
       "      <th>1993-07-01</th>\n",
       "      <td>60.241182</td>\n",
       "    </tr>\n",
       "    <tr>\n",
       "      <th>1993-10-01</th>\n",
       "      <td>58.077534</td>\n",
       "    </tr>\n",
       "    <tr>\n",
       "      <th>1994-01-01</th>\n",
       "      <td>57.896459</td>\n",
       "    </tr>\n",
       "    <tr>\n",
       "      <th>1994-04-01</th>\n",
       "      <td>65.893854</td>\n",
       "    </tr>\n",
       "    <tr>\n",
       "      <th>1994-07-01</th>\n",
       "      <td>66.790718</td>\n",
       "    </tr>\n",
       "    <tr>\n",
       "      <th>1994-10-01</th>\n",
       "      <td>63.379808</td>\n",
       "    </tr>\n",
       "    <tr>\n",
       "      <th>1995-01-01</th>\n",
       "      <td>62.080593</td>\n",
       "    </tr>\n",
       "    <tr>\n",
       "      <th>1995-04-01</th>\n",
       "      <td>70.256672</td>\n",
       "    </tr>\n",
       "    <tr>\n",
       "      <th>1995-07-01</th>\n",
       "      <td>69.964277</td>\n",
       "    </tr>\n",
       "    <tr>\n",
       "      <th>1995-10-01</th>\n",
       "      <td>65.825527</td>\n",
       "    </tr>\n",
       "    <tr>\n",
       "      <th>1996-01-01</th>\n",
       "      <td>64.761099</td>\n",
       "    </tr>\n",
       "    <tr>\n",
       "      <th>1996-04-01</th>\n",
       "      <td>72.477583</td>\n",
       "    </tr>\n",
       "  </tbody>\n",
       "</table>\n",
       "</div>"
      ],
      "text/plain": [
       "                Sales\n",
       "date                 \n",
       "1986-01-01  41.651254\n",
       "1986-04-01  47.381019\n",
       "1986-07-01  50.336915\n",
       "1986-10-01  46.421579\n",
       "1987-01-01  39.342331\n",
       "1987-04-01  45.873871\n",
       "1987-07-01  44.881655\n",
       "1987-10-01  44.628993\n",
       "1988-01-01  43.232511\n",
       "1988-04-01  48.100229\n",
       "1988-07-01  46.133719\n",
       "1988-10-01  45.020318\n",
       "1989-01-01  43.710456\n",
       "1989-04-01  48.282139\n",
       "1989-07-01  46.973929\n",
       "1989-10-01  46.625830\n",
       "1990-01-01  46.349520\n",
       "1990-04-01  52.338399\n",
       "1990-07-01  52.846514\n",
       "1990-10-01  50.556997\n",
       "1991-01-01  49.809377\n",
       "1991-04-01  55.131869\n",
       "1991-07-01  56.321541\n",
       "1991-10-01  53.656323\n",
       "1992-01-01  52.649786\n",
       "1992-04-01  59.581876\n",
       "1992-07-01  59.228372\n",
       "1992-10-01  56.954894\n",
       "1993-01-01  55.281100\n",
       "1993-04-01  62.441973\n",
       "1993-07-01  60.241182\n",
       "1993-10-01  58.077534\n",
       "1994-01-01  57.896459\n",
       "1994-04-01  65.893854\n",
       "1994-07-01  66.790718\n",
       "1994-10-01  63.379808\n",
       "1995-01-01  62.080593\n",
       "1995-04-01  70.256672\n",
       "1995-07-01  69.964277\n",
       "1995-10-01  65.825527\n",
       "1996-01-01  64.761099\n",
       "1996-04-01  72.477583"
      ]
     },
     "execution_count": 53,
     "metadata": {},
     "output_type": "execute_result"
    }
   ],
   "source": [
    "coco1"
   ]
  },
  {
   "cell_type": "markdown",
   "id": "1e81528c",
   "metadata": {},
   "source": [
    "# Model Building"
   ]
  },
  {
   "cell_type": "code",
   "execution_count": 54,
   "id": "90f702c5",
   "metadata": {},
   "outputs": [],
   "source": [
    "train=coco1.head(34)\n",
    "test=coco1.tail(8)"
   ]
  },
  {
   "cell_type": "markdown",
   "id": "557976ab",
   "metadata": {},
   "source": [
    "# Holts winter exponential smoothing with multiplicative seasonality and additive trend"
   ]
  },
  {
   "cell_type": "code",
   "execution_count": 72,
   "id": "4391b1c9",
   "metadata": {},
   "outputs": [],
   "source": [
    "def MAPE(pred,org):\n",
    "    temp = np.abs((pred-org)/org)*100\n",
    "    return np.mean(temp)"
   ]
  },
  {
   "cell_type": "code",
   "execution_count": 92,
   "id": "2b4c698d",
   "metadata": {},
   "outputs": [
    {
     "data": {
      "text/plain": [
       "2.5803460167270185"
      ]
     },
     "execution_count": 92,
     "metadata": {},
     "output_type": "execute_result"
    }
   ],
   "source": [
    "hwe_model_mul_add = ExponentialSmoothing(train[\"Sales\"],seasonal=\"mul\",trend=\"add\",seasonal_periods=4).fit() \n",
    "pred_hwe_mul_add = hwe_model_mul_add.predict(start = test.index[0],end = test.index[-1])\n",
    "MAPE(pred_hwe_mul_add,test.Sales)"
   ]
  },
  {
   "cell_type": "code",
   "execution_count": 55,
   "id": "69f677d6",
   "metadata": {},
   "outputs": [
    {
     "data": {
      "image/png": "[encoded data removed]",
      "text/plain": [
       "<Figure size 432x288 with 1 Axes>"
      ]
     },
     "metadata": {
      "needs_background": "light"
     },
     "output_type": "display_data"
    }
   ],
   "source": [
    "import statsmodels.graphics.tsaplots as tsa_plots\n",
    "tsa_plots.plot_acf(coco1.Sales,lags=12)\n",
    "plt.show()"
   ]
  },
  {
   "cell_type": "code",
   "execution_count": 56,
   "id": "3cb37939",
   "metadata": {},
   "outputs": [
    {
     "data": {
      "image/png": "[encoded data removed]",
      "text/plain": [
       "<Figure size 432x288 with 1 Axes>"
      ]
     },
     "metadata": {
      "needs_background": "light"
     },
     "output_type": "display_data"
    }
   ],
   "source": [
    "tsa_plots.plot_pacf(coco1.Sales,lags=12)\n",
    "plt.show()"
   ]
  },
  {
   "cell_type": "markdown",
   "id": "77105705",
   "metadata": {},
   "source": [
    "# ARIMA"
   ]
  },
  {
   "cell_type": "code",
   "execution_count": 57,
   "id": "2ae79750",
   "metadata": {},
   "outputs": [],
   "source": [
    "import itertools"
   ]
  },
  {
   "cell_type": "code",
   "execution_count": 58,
   "id": "a6454712",
   "metadata": {},
   "outputs": [],
   "source": [
    "p = range(0, 6)\n",
    "d = range(0, 6)\n",
    "q = range(0, 3)\n",
    "pdq_combination=list(itertools.product(p,d,q))"
   ]
  },
  {
   "cell_type": "code",
   "execution_count": 59,
   "id": "aa87bb11",
   "metadata": {},
   "outputs": [],
   "source": [
    "len(pdq_combination)\n",
    "order=[]\n",
    "mse=[]"
   ]
  },
  {
   "cell_type": "code",
   "execution_count": 90,
   "id": "28f2cdce",
   "metadata": {
    "scrolled": true
   },
   "outputs": [
    {
     "name": "stdout",
     "output_type": "stream",
     "text": [
      "Best ARIMA(0, 0, 0) RMSE=16.31\n",
      "Best ARIMA(0, 0, 1) RMSE=15.52\n",
      "Best ARIMA(0, 0, 2) RMSE=14.56\n",
      "Best ARIMA(0, 1, 0) RMSE=3.57\n",
      "Best ARIMA(0, 1, 1) RMSE=6.17\n",
      "Best ARIMA(0, 1, 2) RMSE=5.88\n",
      "Best ARIMA(0, 2, 0) RMSE=38.87\n",
      "Best ARIMA(0, 2, 1) RMSE=3.78\n",
      "Best ARIMA(0, 2, 2) RMSE=5.19\n",
      "Best ARIMA(0, 3, 0) RMSE=193.35\n",
      "Best ARIMA(0, 3, 1) RMSE=40.18\n",
      "Best ARIMA(0, 3, 2) RMSE=6.81\n",
      "Best ARIMA(0, 4, 0) RMSE=546.72\n",
      "Best ARIMA(0, 4, 1) RMSE=213.31\n",
      "Best ARIMA(0, 4, 2) RMSE=84.25\n",
      "Best ARIMA(0, 5, 0) RMSE=1172.11\n",
      "Best ARIMA(0, 5, 1) RMSE=596.75\n",
      "Best ARIMA(0, 5, 2) RMSE=288.62\n",
      "Best ARIMA(1, 0, 0) RMSE=8.48\n",
      "Best ARIMA(1, 0, 1) RMSE=7.14\n",
      "Best ARIMA(1, 0, 2) RMSE=6.97\n",
      "Best ARIMA(1, 1, 0) RMSE=4.10\n",
      "Best ARIMA(1, 1, 1) RMSE=6.05\n",
      "Best ARIMA(1, 1, 2) RMSE=5.93\n",
      "Best ARIMA(1, 2, 0) RMSE=27.57\n",
      "Best ARIMA(1, 2, 1) RMSE=3.18\n",
      "Best ARIMA(1, 2, 2) RMSE=3.23\n",
      "Best ARIMA(1, 3, 0) RMSE=147.50\n",
      "Best ARIMA(1, 3, 1) RMSE=28.68\n",
      "Best ARIMA(1, 3, 2) RMSE=32.46\n",
      "Best ARIMA(1, 4, 0) RMSE=432.26\n",
      "Best ARIMA(1, 4, 1) RMSE=169.74\n",
      "Best ARIMA(1, 4, 2) RMSE=141.15\n",
      "Best ARIMA(1, 5, 0) RMSE=259.57\n",
      "Best ARIMA(1, 5, 1) RMSE=465.29\n",
      "Best ARIMA(1, 5, 2) RMSE=190.46\n",
      "Best ARIMA(2, 0, 0) RMSE=7.86\n",
      "Best ARIMA(2, 0, 1) RMSE=7.94\n",
      "Best ARIMA(2, 0, 2) RMSE=7.10\n",
      "Best ARIMA(2, 1, 0) RMSE=5.66\n",
      "Best ARIMA(2, 1, 1) RMSE=6.11\n",
      "Best ARIMA(2, 1, 2) RMSE=4.48\n",
      "Best ARIMA(2, 2, 0) RMSE=15.33\n",
      "Best ARIMA(2, 2, 1) RMSE=3.39\n",
      "Best ARIMA(2, 2, 2) RMSE=4.31\n",
      "Best ARIMA(2, 3, 0) RMSE=120.60\n",
      "Best ARIMA(2, 3, 1) RMSE=16.46\n",
      "Best ARIMA(2, 3, 2) RMSE=30.19\n",
      "Best ARIMA(2, 4, 0) RMSE=466.87\n",
      "Best ARIMA(2, 4, 1) RMSE=143.70\n",
      "Best ARIMA(2, 4, 2) RMSE=145.55\n",
      "Best ARIMA(2, 5, 0) RMSE=892.85\n",
      "Best ARIMA(2, 5, 1) RMSE=485.07\n",
      "Best ARIMA(2, 5, 2) RMSE=306.54\n",
      "Best ARIMA(3, 0, 0) RMSE=6.82\n",
      "Best ARIMA(3, 0, 1) RMSE=6.77\n",
      "Best ARIMA(3, 0, 2) RMSE=6.75\n",
      "Best ARIMA(3, 1, 0) RMSE=6.31\n",
      "Best ARIMA(3, 1, 1) RMSE=5.87\n",
      "Best ARIMA(3, 1, 2) RMSE=5.70\n",
      "Best ARIMA(3, 2, 0) RMSE=2.21\n",
      "Best ARIMA(3, 2, 1) RMSE=2.20\n",
      "Best ARIMA(3, 2, 2) RMSE=2.66\n",
      "Best ARIMA(3, 3, 0) RMSE=8.49\n",
      "Best ARIMA(3, 3, 1) RMSE=2.19\n",
      "Best ARIMA(3, 3, 2) RMSE=2.25\n",
      "Best ARIMA(3, 4, 0) RMSE=39.66\n",
      "Best ARIMA(3, 4, 1) RMSE=10.23\n",
      "Best ARIMA(3, 4, 2) RMSE=3.18\n",
      "Best ARIMA(3, 5, 0) RMSE=119.85\n",
      "Best ARIMA(3, 5, 1) RMSE=45.96\n",
      "Best ARIMA(3, 5, 2) RMSE=18.07\n",
      "Best ARIMA(4, 0, 0) RMSE=6.65\n",
      "Best ARIMA(4, 0, 1) RMSE=6.26\n",
      "Best ARIMA(4, 0, 2) RMSE=6.23\n",
      "Best ARIMA(4, 1, 0) RMSE=3.91\n",
      "Best ARIMA(4, 1, 1) RMSE=4.24\n",
      "Best ARIMA(4, 1, 2) RMSE=3.61\n",
      "Best ARIMA(4, 2, 0) RMSE=2.21\n",
      "Best ARIMA(4, 2, 1) RMSE=2.44\n",
      "Best ARIMA(4, 2, 2) RMSE=2.63\n",
      "Best ARIMA(4, 3, 0) RMSE=7.26\n",
      "Best ARIMA(4, 3, 1) RMSE=2.21\n",
      "Best ARIMA(4, 3, 2) RMSE=5.07\n",
      "Best ARIMA(4, 4, 0) RMSE=28.23\n",
      "Best ARIMA(4, 4, 1) RMSE=9.33\n",
      "Best ARIMA(4, 4, 2) RMSE=2.98\n",
      "Best ARIMA(4, 5, 0) RMSE=61.48\n",
      "Best ARIMA(4, 5, 1) RMSE=27.06\n",
      "Best ARIMA(4, 5, 2) RMSE=17.69\n",
      "Best ARIMA(5, 0, 0) RMSE=5.35\n",
      "Best ARIMA(5, 0, 1) RMSE=5.48\n",
      "Best ARIMA(5, 0, 2) RMSE=6.48\n",
      "Best ARIMA(5, 1, 0) RMSE=4.10\n",
      "Best ARIMA(5, 1, 1) RMSE=4.05\n",
      "Best ARIMA(5, 1, 2) RMSE=3.56\n",
      "Best ARIMA(5, 2, 0) RMSE=2.70\n",
      "Best ARIMA(5, 2, 1) RMSE=2.73\n",
      "Best ARIMA(5, 2, 2) RMSE=2.85\n",
      "Best ARIMA(5, 3, 0) RMSE=4.76\n",
      "Best ARIMA(5, 3, 1) RMSE=2.30\n",
      "Best ARIMA(5, 3, 2) RMSE=2.22\n",
      "Best ARIMA(5, 4, 0) RMSE=25.26\n",
      "Best ARIMA(5, 4, 1) RMSE=5.55\n",
      "Best ARIMA(5, 4, 2) RMSE=4.98\n",
      "Best ARIMA(5, 5, 0) RMSE=62.94\n",
      "Best ARIMA(5, 5, 1) RMSE=22.95\n",
      "Best ARIMA(5, 5, 2) RMSE=9.62\n"
     ]
    }
   ],
   "source": [
    "for pdq in pdq_combination:\n",
    "        model=sm.tsa.arima.ARIMA(train,order=pdq).fit()\n",
    "        pred=model.predict(start=len(train),end=(len(coco1)-1))\n",
    "        error=np.sqrt(mean_squared_error(test,pred))\n",
    "        order.append(pdq)\n",
    "        mse.append(error)  \n",
    "        print('Best ARIMA%s RMSE=%.2f' % (pdq,error))"
   ]
  },
  {
   "cell_type": "markdown",
   "id": "0b6c6134",
   "metadata": {},
   "source": [
    "(5,3,2) is the best value"
   ]
  },
  {
   "cell_type": "code",
   "execution_count": 79,
   "id": "ef1c4972",
   "metadata": {},
   "outputs": [],
   "source": [
    "model=sm.tsa.arima.ARIMA(train,order=(5,3,2)).fit()"
   ]
  },
  {
   "cell_type": "code",
   "execution_count": 80,
   "id": "7fe315b8",
   "metadata": {},
   "outputs": [
    {
     "data": {
      "text/plain": [
       "(34, 41)"
      ]
     },
     "execution_count": 80,
     "metadata": {},
     "output_type": "execute_result"
    }
   ],
   "source": [
    "len(train),(len(coco1)-1)"
   ]
  },
  {
   "cell_type": "code",
   "execution_count": 81,
   "id": "52602a97",
   "metadata": {},
   "outputs": [],
   "source": [
    "pred = model.predict(start=len(train),end=(len(coco1)-1))"
   ]
  },
  {
   "cell_type": "code",
   "execution_count": 82,
   "id": "6111755f",
   "metadata": {},
   "outputs": [
    {
     "data": {
      "text/plain": [
       "1994-07-01    63.127219\n",
       "1994-10-01    61.464869\n",
       "1995-01-01    62.307720\n",
       "1995-04-01    69.783548\n",
       "1995-07-01    66.648422\n",
       "1995-10-01    65.926474\n",
       "1996-01-01    67.501980\n",
       "1996-04-01    74.346523\n",
       "Freq: QS-OCT, Name: predicted_mean, dtype: float64"
      ]
     },
     "execution_count": 82,
     "metadata": {},
     "output_type": "execute_result"
    }
   ],
   "source": [
    "pred"
   ]
  },
  {
   "cell_type": "code",
   "execution_count": 83,
   "id": "02f9da0d",
   "metadata": {},
   "outputs": [
    {
     "data": {
      "text/plain": [
       "2.2185044218919066"
      ]
     },
     "execution_count": 83,
     "metadata": {},
     "output_type": "execute_result"
    }
   ],
   "source": [
    "err = np.sqrt(mean_squared_error(test,pred))\n",
    "err"
   ]
  },
  {
   "cell_type": "code",
   "execution_count": 84,
   "id": "0a97b00f",
   "metadata": {
    "scrolled": false
   },
   "outputs": [
    {
     "data": {
      "text/plain": [
       "<AxesSubplot:xlabel='date'>"
      ]
     },
     "execution_count": 84,
     "metadata": {},
     "output_type": "execute_result"
    },
    {
     "data": {
      "image/png": "[encoded data removed]",
      "text/plain": [
       "<Figure size 720x432 with 1 Axes>"
      ]
     },
     "metadata": {
      "needs_background": "light"
     },
     "output_type": "display_data"
    },
    {
     "data": {
      "image/png": "[encoded data removed]",
      "text/plain": [
       "<Figure size 432x288 with 1 Axes>"
      ]
     },
     "metadata": {
      "needs_background": "light"
     },
     "output_type": "display_data"
    }
   ],
   "source": [
    "train.plot(legend=True,label='Train',figsize=(10,6))\n",
    "test.plot(legend=True,label='Test')\n",
    "pred.plot(legend=True,label='Predicted')"
   ]
  },
  {
   "cell_type": "markdown",
   "id": "3eaaf45d",
   "metadata": {},
   "source": [
    "# Final Model"
   ]
  },
  {
   "cell_type": "code",
   "execution_count": 113,
   "id": "a8a7d11f",
   "metadata": {},
   "outputs": [],
   "source": [
    "model=sm.tsa.arima.ARIMA(coco1,order=(5,3,2)).fit()"
   ]
  },
  {
   "cell_type": "code",
   "execution_count": 119,
   "id": "8348d547",
   "metadata": {},
   "outputs": [
    {
     "data": {
      "text/plain": [
       "1996-07-01    5227.478717\n",
       "1996-10-01    4716.729681\n",
       "1997-01-01    4636.763199\n",
       "1997-04-01    5662.489442\n",
       "1997-07-01    5594.489673\n",
       "1997-10-01    5092.891503\n",
       "1998-01-01    5050.572156\n",
       "1998-04-01    6038.470226\n",
       "1998-07-01    5932.136487\n",
       "1998-10-01    5443.413825\n",
       "Freq: QS-OCT, Name: predicted_mean, dtype: float64"
      ]
     },
     "execution_count": 119,
     "metadata": {},
     "output_type": "execute_result"
    }
   ],
   "source": [
    "model.forecast(steps=10)"
   ]
  },
  {
   "cell_type": "markdown",
   "id": "e69a9d14",
   "metadata": {},
   "source": [
    "The RMSE value is 2.2185044218919066 and we have used ARIMA model."
   ]
  },
  {
   "cell_type": "markdown",
   "id": "df6fba97",
   "metadata": {},
   "source": [
    "# Airlines"
   ]
  },
  {
   "cell_type": "code",
   "execution_count": 150,
   "id": "9774571c",
   "metadata": {},
   "outputs": [],
   "source": [
    "air=pd.read_csv('Airlines+Data1.csv')"
   ]
  },
  {
   "cell_type": "code",
   "execution_count": 151,
   "id": "d442dc98",
   "metadata": {},
   "outputs": [
    {
     "data": {
      "text/html": [
       "<div>\n",
       "<style scoped>\n",
       "    .dataframe tbody tr th:only-of-type {\n",
       "        vertical-align: middle;\n",
       "    }\n",
       "\n",
       "    .dataframe tbody tr th {\n",
       "        vertical-align: top;\n",
       "    }\n",
       "\n",
       "    .dataframe thead th {\n",
       "        text-align: right;\n",
       "    }\n",
       "</style>\n",
       "<table border=\"1\" class=\"dataframe\">\n",
       "  <thead>\n",
       "    <tr style=\"text-align: right;\">\n",
       "      <th></th>\n",
       "      <th>Month</th>\n",
       "      <th>Passengers</th>\n",
       "    </tr>\n",
       "  </thead>\n",
       "  <tbody>\n",
       "    <tr>\n",
       "      <th>0</th>\n",
       "      <td>Jan-95</td>\n",
       "      <td>112</td>\n",
       "    </tr>\n",
       "    <tr>\n",
       "      <th>1</th>\n",
       "      <td>Feb-95</td>\n",
       "      <td>118</td>\n",
       "    </tr>\n",
       "    <tr>\n",
       "      <th>2</th>\n",
       "      <td>Mar-95</td>\n",
       "      <td>132</td>\n",
       "    </tr>\n",
       "    <tr>\n",
       "      <th>3</th>\n",
       "      <td>Apr-95</td>\n",
       "      <td>129</td>\n",
       "    </tr>\n",
       "    <tr>\n",
       "      <th>4</th>\n",
       "      <td>May-95</td>\n",
       "      <td>121</td>\n",
       "    </tr>\n",
       "    <tr>\n",
       "      <th>...</th>\n",
       "      <td>...</td>\n",
       "      <td>...</td>\n",
       "    </tr>\n",
       "    <tr>\n",
       "      <th>91</th>\n",
       "      <td>Aug-02</td>\n",
       "      <td>405</td>\n",
       "    </tr>\n",
       "    <tr>\n",
       "      <th>92</th>\n",
       "      <td>Sep-02</td>\n",
       "      <td>355</td>\n",
       "    </tr>\n",
       "    <tr>\n",
       "      <th>93</th>\n",
       "      <td>Oct-02</td>\n",
       "      <td>306</td>\n",
       "    </tr>\n",
       "    <tr>\n",
       "      <th>94</th>\n",
       "      <td>Nov-02</td>\n",
       "      <td>271</td>\n",
       "    </tr>\n",
       "    <tr>\n",
       "      <th>95</th>\n",
       "      <td>Dec-02</td>\n",
       "      <td>306</td>\n",
       "    </tr>\n",
       "  </tbody>\n",
       "</table>\n",
       "<p>96 rows × 2 columns</p>\n",
       "</div>"
      ],
      "text/plain": [
       "     Month  Passengers\n",
       "0   Jan-95         112\n",
       "1   Feb-95         118\n",
       "2   Mar-95         132\n",
       "3   Apr-95         129\n",
       "4   May-95         121\n",
       "..     ...         ...\n",
       "91  Aug-02         405\n",
       "92  Sep-02         355\n",
       "93  Oct-02         306\n",
       "94  Nov-02         271\n",
       "95  Dec-02         306\n",
       "\n",
       "[96 rows x 2 columns]"
      ]
     },
     "execution_count": 151,
     "metadata": {},
     "output_type": "execute_result"
    }
   ],
   "source": [
    "air"
   ]
  },
  {
   "cell_type": "code",
   "execution_count": 152,
   "id": "53c27397",
   "metadata": {},
   "outputs": [
    {
     "name": "stdout",
     "output_type": "stream",
     "text": [
      "<class 'pandas.core.frame.DataFrame'>\n",
      "RangeIndex: 96 entries, 0 to 95\n",
      "Data columns (total 2 columns):\n",
      " #   Column      Non-Null Count  Dtype \n",
      "---  ------      --------------  ----- \n",
      " 0   Month       96 non-null     object\n",
      " 1   Passengers  96 non-null     int64 \n",
      "dtypes: int64(1), object(1)\n",
      "memory usage: 1.6+ KB\n"
     ]
    }
   ],
   "source": [
    "air.info()"
   ]
  },
  {
   "cell_type": "code",
   "execution_count": 153,
   "id": "7c058dde",
   "metadata": {},
   "outputs": [
    {
     "data": {
      "text/html": [
       "<div>\n",
       "<style scoped>\n",
       "    .dataframe tbody tr th:only-of-type {\n",
       "        vertical-align: middle;\n",
       "    }\n",
       "\n",
       "    .dataframe tbody tr th {\n",
       "        vertical-align: top;\n",
       "    }\n",
       "\n",
       "    .dataframe thead th {\n",
       "        text-align: right;\n",
       "    }\n",
       "</style>\n",
       "<table border=\"1\" class=\"dataframe\">\n",
       "  <thead>\n",
       "    <tr style=\"text-align: right;\">\n",
       "      <th></th>\n",
       "      <th>Passengers</th>\n",
       "    </tr>\n",
       "  </thead>\n",
       "  <tbody>\n",
       "    <tr>\n",
       "      <th>count</th>\n",
       "      <td>96.000000</td>\n",
       "    </tr>\n",
       "    <tr>\n",
       "      <th>mean</th>\n",
       "      <td>213.708333</td>\n",
       "    </tr>\n",
       "    <tr>\n",
       "      <th>std</th>\n",
       "      <td>71.918216</td>\n",
       "    </tr>\n",
       "    <tr>\n",
       "      <th>min</th>\n",
       "      <td>104.000000</td>\n",
       "    </tr>\n",
       "    <tr>\n",
       "      <th>25%</th>\n",
       "      <td>156.000000</td>\n",
       "    </tr>\n",
       "    <tr>\n",
       "      <th>50%</th>\n",
       "      <td>200.000000</td>\n",
       "    </tr>\n",
       "    <tr>\n",
       "      <th>75%</th>\n",
       "      <td>264.750000</td>\n",
       "    </tr>\n",
       "    <tr>\n",
       "      <th>max</th>\n",
       "      <td>413.000000</td>\n",
       "    </tr>\n",
       "  </tbody>\n",
       "</table>\n",
       "</div>"
      ],
      "text/plain": [
       "       Passengers\n",
       "count   96.000000\n",
       "mean   213.708333\n",
       "std     71.918216\n",
       "min    104.000000\n",
       "25%    156.000000\n",
       "50%    200.000000\n",
       "75%    264.750000\n",
       "max    413.000000"
      ]
     },
     "execution_count": 153,
     "metadata": {},
     "output_type": "execute_result"
    }
   ],
   "source": [
    "air.describe()"
   ]
  },
  {
   "cell_type": "markdown",
   "id": "0063cecb",
   "metadata": {},
   "source": [
    "# EDA"
   ]
  },
  {
   "cell_type": "code",
   "execution_count": 154,
   "id": "583f50d8",
   "metadata": {},
   "outputs": [],
   "source": [
    "air['Month']=pd.to_datetime(air['Month'],format='%b-%y')"
   ]
  },
  {
   "cell_type": "code",
   "execution_count": 155,
   "id": "e6e12502",
   "metadata": {},
   "outputs": [
    {
     "data": {
      "text/html": [
       "<div>\n",
       "<style scoped>\n",
       "    .dataframe tbody tr th:only-of-type {\n",
       "        vertical-align: middle;\n",
       "    }\n",
       "\n",
       "    .dataframe tbody tr th {\n",
       "        vertical-align: top;\n",
       "    }\n",
       "\n",
       "    .dataframe thead th {\n",
       "        text-align: right;\n",
       "    }\n",
       "</style>\n",
       "<table border=\"1\" class=\"dataframe\">\n",
       "  <thead>\n",
       "    <tr style=\"text-align: right;\">\n",
       "      <th></th>\n",
       "      <th>Month</th>\n",
       "      <th>Passengers</th>\n",
       "    </tr>\n",
       "  </thead>\n",
       "  <tbody>\n",
       "    <tr>\n",
       "      <th>0</th>\n",
       "      <td>1995-01-01</td>\n",
       "      <td>112</td>\n",
       "    </tr>\n",
       "    <tr>\n",
       "      <th>1</th>\n",
       "      <td>1995-02-01</td>\n",
       "      <td>118</td>\n",
       "    </tr>\n",
       "    <tr>\n",
       "      <th>2</th>\n",
       "      <td>1995-03-01</td>\n",
       "      <td>132</td>\n",
       "    </tr>\n",
       "    <tr>\n",
       "      <th>3</th>\n",
       "      <td>1995-04-01</td>\n",
       "      <td>129</td>\n",
       "    </tr>\n",
       "    <tr>\n",
       "      <th>4</th>\n",
       "      <td>1995-05-01</td>\n",
       "      <td>121</td>\n",
       "    </tr>\n",
       "    <tr>\n",
       "      <th>...</th>\n",
       "      <td>...</td>\n",
       "      <td>...</td>\n",
       "    </tr>\n",
       "    <tr>\n",
       "      <th>91</th>\n",
       "      <td>2002-08-01</td>\n",
       "      <td>405</td>\n",
       "    </tr>\n",
       "    <tr>\n",
       "      <th>92</th>\n",
       "      <td>2002-09-01</td>\n",
       "      <td>355</td>\n",
       "    </tr>\n",
       "    <tr>\n",
       "      <th>93</th>\n",
       "      <td>2002-10-01</td>\n",
       "      <td>306</td>\n",
       "    </tr>\n",
       "    <tr>\n",
       "      <th>94</th>\n",
       "      <td>2002-11-01</td>\n",
       "      <td>271</td>\n",
       "    </tr>\n",
       "    <tr>\n",
       "      <th>95</th>\n",
       "      <td>2002-12-01</td>\n",
       "      <td>306</td>\n",
       "    </tr>\n",
       "  </tbody>\n",
       "</table>\n",
       "<p>96 rows × 2 columns</p>\n",
       "</div>"
      ],
      "text/plain": [
       "        Month  Passengers\n",
       "0  1995-01-01         112\n",
       "1  1995-02-01         118\n",
       "2  1995-03-01         132\n",
       "3  1995-04-01         129\n",
       "4  1995-05-01         121\n",
       "..        ...         ...\n",
       "91 2002-08-01         405\n",
       "92 2002-09-01         355\n",
       "93 2002-10-01         306\n",
       "94 2002-11-01         271\n",
       "95 2002-12-01         306\n",
       "\n",
       "[96 rows x 2 columns]"
      ]
     },
     "execution_count": 155,
     "metadata": {},
     "output_type": "execute_result"
    }
   ],
   "source": [
    "air"
   ]
  },
  {
   "cell_type": "code",
   "execution_count": 156,
   "id": "6dac35a8",
   "metadata": {},
   "outputs": [],
   "source": [
    "air.set_index('Month',inplace=True)"
   ]
  },
  {
   "cell_type": "code",
   "execution_count": 157,
   "id": "e5ff78b2",
   "metadata": {},
   "outputs": [
    {
     "data": {
      "text/html": [
       "<div>\n",
       "<style scoped>\n",
       "    .dataframe tbody tr th:only-of-type {\n",
       "        vertical-align: middle;\n",
       "    }\n",
       "\n",
       "    .dataframe tbody tr th {\n",
       "        vertical-align: top;\n",
       "    }\n",
       "\n",
       "    .dataframe thead th {\n",
       "        text-align: right;\n",
       "    }\n",
       "</style>\n",
       "<table border=\"1\" class=\"dataframe\">\n",
       "  <thead>\n",
       "    <tr style=\"text-align: right;\">\n",
       "      <th></th>\n",
       "      <th>Passengers</th>\n",
       "    </tr>\n",
       "    <tr>\n",
       "      <th>Month</th>\n",
       "      <th></th>\n",
       "    </tr>\n",
       "  </thead>\n",
       "  <tbody>\n",
       "    <tr>\n",
       "      <th>1995-01-01</th>\n",
       "      <td>112</td>\n",
       "    </tr>\n",
       "    <tr>\n",
       "      <th>1995-02-01</th>\n",
       "      <td>118</td>\n",
       "    </tr>\n",
       "    <tr>\n",
       "      <th>1995-03-01</th>\n",
       "      <td>132</td>\n",
       "    </tr>\n",
       "    <tr>\n",
       "      <th>1995-04-01</th>\n",
       "      <td>129</td>\n",
       "    </tr>\n",
       "    <tr>\n",
       "      <th>1995-05-01</th>\n",
       "      <td>121</td>\n",
       "    </tr>\n",
       "    <tr>\n",
       "      <th>...</th>\n",
       "      <td>...</td>\n",
       "    </tr>\n",
       "    <tr>\n",
       "      <th>2002-08-01</th>\n",
       "      <td>405</td>\n",
       "    </tr>\n",
       "    <tr>\n",
       "      <th>2002-09-01</th>\n",
       "      <td>355</td>\n",
       "    </tr>\n",
       "    <tr>\n",
       "      <th>2002-10-01</th>\n",
       "      <td>306</td>\n",
       "    </tr>\n",
       "    <tr>\n",
       "      <th>2002-11-01</th>\n",
       "      <td>271</td>\n",
       "    </tr>\n",
       "    <tr>\n",
       "      <th>2002-12-01</th>\n",
       "      <td>306</td>\n",
       "    </tr>\n",
       "  </tbody>\n",
       "</table>\n",
       "<p>96 rows × 1 columns</p>\n",
       "</div>"
      ],
      "text/plain": [
       "            Passengers\n",
       "Month                 \n",
       "1995-01-01         112\n",
       "1995-02-01         118\n",
       "1995-03-01         132\n",
       "1995-04-01         129\n",
       "1995-05-01         121\n",
       "...                ...\n",
       "2002-08-01         405\n",
       "2002-09-01         355\n",
       "2002-10-01         306\n",
       "2002-11-01         271\n",
       "2002-12-01         306\n",
       "\n",
       "[96 rows x 1 columns]"
      ]
     },
     "execution_count": 157,
     "metadata": {},
     "output_type": "execute_result"
    }
   ],
   "source": [
    "air"
   ]
  },
  {
   "cell_type": "markdown",
   "id": "fe64e7da",
   "metadata": {},
   "source": [
    "# Visualisation"
   ]
  },
  {
   "cell_type": "code",
   "execution_count": 128,
   "id": "119f6e73",
   "metadata": {},
   "outputs": [
    {
     "data": {
      "image/png": "[encoded data removed]",
      "text/plain": [
       "<Figure size 432x288 with 1 Axes>"
      ]
     },
     "metadata": {
      "needs_background": "light"
     },
     "output_type": "display_data"
    }
   ],
   "source": [
    "air.plot()\n",
    "pyplot.show()"
   ]
  },
  {
   "cell_type": "code",
   "execution_count": 129,
   "id": "04778812",
   "metadata": {},
   "outputs": [
    {
     "data": {
      "image/png": "[encoded data removed]",
      "text/plain": [
       "<Figure size 432x288 with 1 Axes>"
      ]
     },
     "metadata": {
      "needs_background": "light"
     },
     "output_type": "display_data"
    }
   ],
   "source": [
    "air.plot(kind='kde')\n",
    "pyplot.show()"
   ]
  },
  {
   "cell_type": "code",
   "execution_count": 42,
   "id": "7bf2f704",
   "metadata": {},
   "outputs": [
    {
     "data": {
      "image/png": "[encoded data removed]",
      "text/plain": [
       "<Figure size 432x288 with 1 Axes>"
      ]
     },
     "metadata": {
      "needs_background": "light"
     },
     "output_type": "display_data"
    }
   ],
   "source": [
    "air.hist()\n",
    "pyplot.show()"
   ]
  },
  {
   "cell_type": "code",
   "execution_count": 130,
   "id": "5f86654b",
   "metadata": {},
   "outputs": [
    {
     "data": {
      "image/png": "[encoded data removed]",
      "text/plain": [
       "<Figure size 432x288 with 4 Axes>"
      ]
     },
     "metadata": {
      "needs_background": "light"
     },
     "output_type": "display_data"
    }
   ],
   "source": [
    "decomposition1 = sm.tsa.seasonal_decompose(air,model='additive')\n",
    "fig = decomposition1.plot()\n",
    "plt.show()"
   ]
  },
  {
   "cell_type": "code",
   "execution_count": 131,
   "id": "fac710ad",
   "metadata": {},
   "outputs": [
    {
     "data": {
      "image/png": "[encoded data removed]",
      "text/plain": [
       "<Figure size 432x288 with 1 Axes>"
      ]
     },
     "metadata": {
      "needs_background": "light"
     },
     "output_type": "display_data"
    }
   ],
   "source": [
    "lag_plot(air)\n",
    "pyplot.show()"
   ]
  },
  {
   "cell_type": "code",
   "execution_count": 132,
   "id": "a0d5a278",
   "metadata": {},
   "outputs": [],
   "source": [
    "air['Passengers']=np.sqrt(air['Passengers'])"
   ]
  },
  {
   "cell_type": "code",
   "execution_count": 133,
   "id": "eac6773b",
   "metadata": {
    "scrolled": true
   },
   "outputs": [
    {
     "data": {
      "text/html": [
       "<div>\n",
       "<style scoped>\n",
       "    .dataframe tbody tr th:only-of-type {\n",
       "        vertical-align: middle;\n",
       "    }\n",
       "\n",
       "    .dataframe tbody tr th {\n",
       "        vertical-align: top;\n",
       "    }\n",
       "\n",
       "    .dataframe thead th {\n",
       "        text-align: right;\n",
       "    }\n",
       "</style>\n",
       "<table border=\"1\" class=\"dataframe\">\n",
       "  <thead>\n",
       "    <tr style=\"text-align: right;\">\n",
       "      <th></th>\n",
       "      <th>Passengers</th>\n",
       "    </tr>\n",
       "    <tr>\n",
       "      <th>Month</th>\n",
       "      <th></th>\n",
       "    </tr>\n",
       "  </thead>\n",
       "  <tbody>\n",
       "    <tr>\n",
       "      <th>1995-01-01</th>\n",
       "      <td>10.583005</td>\n",
       "    </tr>\n",
       "    <tr>\n",
       "      <th>1995-02-01</th>\n",
       "      <td>10.862780</td>\n",
       "    </tr>\n",
       "    <tr>\n",
       "      <th>1995-03-01</th>\n",
       "      <td>11.489125</td>\n",
       "    </tr>\n",
       "    <tr>\n",
       "      <th>1995-04-01</th>\n",
       "      <td>11.357817</td>\n",
       "    </tr>\n",
       "    <tr>\n",
       "      <th>1995-05-01</th>\n",
       "      <td>11.000000</td>\n",
       "    </tr>\n",
       "    <tr>\n",
       "      <th>...</th>\n",
       "      <td>...</td>\n",
       "    </tr>\n",
       "    <tr>\n",
       "      <th>2002-08-01</th>\n",
       "      <td>20.124612</td>\n",
       "    </tr>\n",
       "    <tr>\n",
       "      <th>2002-09-01</th>\n",
       "      <td>18.841444</td>\n",
       "    </tr>\n",
       "    <tr>\n",
       "      <th>2002-10-01</th>\n",
       "      <td>17.492856</td>\n",
       "    </tr>\n",
       "    <tr>\n",
       "      <th>2002-11-01</th>\n",
       "      <td>16.462078</td>\n",
       "    </tr>\n",
       "    <tr>\n",
       "      <th>2002-12-01</th>\n",
       "      <td>17.492856</td>\n",
       "    </tr>\n",
       "  </tbody>\n",
       "</table>\n",
       "<p>96 rows × 1 columns</p>\n",
       "</div>"
      ],
      "text/plain": [
       "            Passengers\n",
       "Month                 \n",
       "1995-01-01   10.583005\n",
       "1995-02-01   10.862780\n",
       "1995-03-01   11.489125\n",
       "1995-04-01   11.357817\n",
       "1995-05-01   11.000000\n",
       "...                ...\n",
       "2002-08-01   20.124612\n",
       "2002-09-01   18.841444\n",
       "2002-10-01   17.492856\n",
       "2002-11-01   16.462078\n",
       "2002-12-01   17.492856\n",
       "\n",
       "[96 rows x 1 columns]"
      ]
     },
     "execution_count": 133,
     "metadata": {},
     "output_type": "execute_result"
    }
   ],
   "source": [
    "air"
   ]
  },
  {
   "cell_type": "code",
   "execution_count": 134,
   "id": "49799211",
   "metadata": {},
   "outputs": [
    {
     "data": {
      "image/png": "[encoded data removed]",
      "text/plain": [
       "<Figure size 432x288 with 1 Axes>"
      ]
     },
     "metadata": {
      "needs_background": "light"
     },
     "output_type": "display_data"
    }
   ],
   "source": [
    "air.hist()\n",
    "pyplot.show()"
   ]
  },
  {
   "cell_type": "markdown",
   "id": "3c1ae652",
   "metadata": {},
   "source": [
    "# Model Building"
   ]
  },
  {
   "cell_type": "code",
   "execution_count": 135,
   "id": "ab9858c6",
   "metadata": {},
   "outputs": [],
   "source": [
    "train=air.head(72)\n",
    "test=air.tail(24)"
   ]
  },
  {
   "cell_type": "markdown",
   "id": "1e8035b9",
   "metadata": {},
   "source": [
    "# Holts winter exponential smoothing with multiplicative seasonality and additive trend"
   ]
  },
  {
   "cell_type": "code",
   "execution_count": 138,
   "id": "09c89857",
   "metadata": {},
   "outputs": [],
   "source": [
    "def MAPE(pred,org):\n",
    "    temp = np.abs((pred-org)/org)*100\n",
    "    return np.mean(temp)"
   ]
  },
  {
   "cell_type": "code",
   "execution_count": 140,
   "id": "7e7ae2e1",
   "metadata": {},
   "outputs": [
    {
     "data": {
      "text/plain": [
       "4.019472831102713"
      ]
     },
     "execution_count": 140,
     "metadata": {},
     "output_type": "execute_result"
    }
   ],
   "source": [
    "hwe_model_mul_add = ExponentialSmoothing(train[\"Passengers\"],seasonal=\"mul\",trend=\"add\",seasonal_periods=12).fit() \n",
    "pred_hwe_mul_add = hwe_model_mul_add.predict(start = test.index[0],end = test.index[-1])\n",
    "MAPE(pred_hwe_mul_add,test.Passengers)"
   ]
  },
  {
   "cell_type": "markdown",
   "id": "db3308c1",
   "metadata": {},
   "source": [
    "# ARIMA"
   ]
  },
  {
   "cell_type": "code",
   "execution_count": 136,
   "id": "ab61b2f4",
   "metadata": {},
   "outputs": [
    {
     "data": {
      "image/png": "[encoded data removed]",
      "text/plain": [
       "<Figure size 432x288 with 1 Axes>"
      ]
     },
     "metadata": {
      "needs_background": "light"
     },
     "output_type": "display_data"
    }
   ],
   "source": [
    "tsa_plots.plot_acf(air.Passengers,lags=12)\n",
    "plt.show()"
   ]
  },
  {
   "cell_type": "code",
   "execution_count": 137,
   "id": "f8a3d05b",
   "metadata": {},
   "outputs": [
    {
     "data": {
      "image/png": "[encoded data removed]",
      "text/plain": [
       "<Figure size 432x288 with 1 Axes>"
      ]
     },
     "metadata": {
      "needs_background": "light"
     },
     "output_type": "display_data"
    }
   ],
   "source": [
    "tsa_plots.plot_pacf(air.Passengers,lags=12)\n",
    "plt.show()"
   ]
  },
  {
   "cell_type": "code",
   "execution_count": 141,
   "id": "01d61689",
   "metadata": {},
   "outputs": [],
   "source": [
    "p = range(0, 5)\n",
    "d = range(0, 5)\n",
    "q = range(0, 3)\n",
    "pdq_combination=list(itertools.product(p,d,q))"
   ]
  },
  {
   "cell_type": "code",
   "execution_count": 142,
   "id": "da3688f1",
   "metadata": {},
   "outputs": [],
   "source": [
    "len(pdq_combination)\n",
    "order=[]\n",
    "mse=[]"
   ]
  },
  {
   "cell_type": "code",
   "execution_count": 143,
   "id": "f3d35e42",
   "metadata": {
    "scrolled": true
   },
   "outputs": [
    {
     "name": "stdout",
     "output_type": "stream",
     "text": [
      "Best ARIMA(0, 0, 0) RMSE=4.26\n",
      "Best ARIMA(0, 0, 1) RMSE=4.24\n",
      "Best ARIMA(0, 0, 2) RMSE=4.22\n",
      "Best ARIMA(0, 1, 0) RMSE=2.68\n",
      "Best ARIMA(0, 1, 1) RMSE=2.50\n",
      "Best ARIMA(0, 1, 2) RMSE=2.55\n",
      "Best ARIMA(0, 2, 0) RMSE=10.37\n",
      "Best ARIMA(0, 2, 1) RMSE=1.93\n",
      "Best ARIMA(0, 2, 2) RMSE=1.74\n",
      "Best ARIMA(0, 3, 0) RMSE=262.26\n",
      "Best ARIMA(0, 3, 1) RMSE=11.58\n",
      "Best ARIMA(0, 3, 2) RMSE=2.93\n",
      "Best ARIMA(0, 4, 0) RMSE=2076.83\n",
      "Best ARIMA(0, 4, 1) RMSE=284.13\n",
      "Best ARIMA(0, 4, 2) RMSE=24.37\n",
      "Best ARIMA(1, 0, 0) RMSE=3.71\n",
      "Best ARIMA(1, 0, 1) RMSE=3.82\n",
      "Best ARIMA(1, 0, 2) RMSE=3.67\n",
      "Best ARIMA(1, 1, 0) RMSE=2.55\n",
      "Best ARIMA(1, 1, 1) RMSE=2.61\n",
      "Best ARIMA(1, 1, 2) RMSE=2.44\n",
      "Best ARIMA(1, 2, 0) RMSE=4.28\n",
      "Best ARIMA(1, 2, 1) RMSE=1.78\n",
      "Best ARIMA(1, 2, 2) RMSE=1.84\n",
      "Best ARIMA(1, 3, 0) RMSE=173.07\n",
      "Best ARIMA(1, 3, 1) RMSE=4.64\n",
      "Best ARIMA(1, 3, 2) RMSE=11.90\n",
      "Best ARIMA(1, 4, 0) RMSE=1316.02\n",
      "Best ARIMA(1, 4, 1) RMSE=193.55\n",
      "Best ARIMA(1, 4, 2) RMSE=9.84\n",
      "Best ARIMA(2, 0, 0) RMSE=3.85\n",
      "Best ARIMA(2, 0, 1) RMSE=3.75\n",
      "Best ARIMA(2, 0, 2) RMSE=3.80\n",
      "Best ARIMA(2, 1, 0) RMSE=2.54\n",
      "Best ARIMA(2, 1, 1) RMSE=2.35\n",
      "Best ARIMA(2, 1, 2) RMSE=1.42\n",
      "Best ARIMA(2, 2, 0) RMSE=1.41\n",
      "Best ARIMA(2, 2, 1) RMSE=1.78\n",
      "Best ARIMA(2, 2, 2) RMSE=1.81\n",
      "Best ARIMA(2, 3, 0) RMSE=120.64\n",
      "Best ARIMA(2, 3, 1) RMSE=1.42\n",
      "Best ARIMA(2, 3, 2) RMSE=2.68\n",
      "Best ARIMA(2, 4, 0) RMSE=1085.05\n",
      "Best ARIMA(2, 4, 1) RMSE=138.56\n",
      "Best ARIMA(2, 4, 2) RMSE=1.54\n",
      "Best ARIMA(3, 0, 0) RMSE=3.69\n",
      "Best ARIMA(3, 0, 1) RMSE=3.81\n",
      "Best ARIMA(3, 0, 2) RMSE=3.80\n",
      "Best ARIMA(3, 1, 0) RMSE=2.48\n",
      "Best ARIMA(3, 1, 1) RMSE=2.31\n",
      "Best ARIMA(3, 1, 2) RMSE=2.37\n",
      "Best ARIMA(3, 2, 0) RMSE=3.08\n",
      "Best ARIMA(3, 2, 1) RMSE=1.71\n",
      "Best ARIMA(3, 2, 2) RMSE=1.79\n",
      "Best ARIMA(3, 3, 0) RMSE=91.67\n",
      "Best ARIMA(3, 3, 1) RMSE=3.28\n",
      "Best ARIMA(3, 3, 2) RMSE=1.32\n",
      "Best ARIMA(3, 4, 0) RMSE=1008.14\n",
      "Best ARIMA(3, 4, 1) RMSE=107.20\n",
      "Best ARIMA(3, 4, 2) RMSE=139.79\n",
      "Best ARIMA(4, 0, 0) RMSE=3.53\n",
      "Best ARIMA(4, 0, 1) RMSE=3.74\n",
      "Best ARIMA(4, 0, 2) RMSE=3.53\n",
      "Best ARIMA(4, 1, 0) RMSE=2.27\n",
      "Best ARIMA(4, 1, 1) RMSE=2.28\n",
      "Best ARIMA(4, 1, 2) RMSE=2.30\n",
      "Best ARIMA(4, 2, 0) RMSE=5.12\n",
      "Best ARIMA(4, 2, 1) RMSE=1.48\n",
      "Best ARIMA(4, 2, 2) RMSE=1.48\n",
      "Best ARIMA(4, 3, 0) RMSE=34.33\n",
      "Best ARIMA(4, 3, 1) RMSE=5.91\n",
      "Best ARIMA(4, 3, 2) RMSE=2.00\n",
      "Best ARIMA(4, 4, 0) RMSE=776.43\n",
      "Best ARIMA(4, 4, 1) RMSE=42.25\n",
      "Best ARIMA(4, 4, 2) RMSE=8.87\n"
     ]
    }
   ],
   "source": [
    "for pdq in pdq_combination:\n",
    "        model=sm.tsa.arima.ARIMA(train,order=pdq).fit()\n",
    "        pred=model.predict(start=len(train),end=(len(air)-1))\n",
    "        error=np.sqrt(mean_squared_error(test,pred))\n",
    "        order.append(pdq)\n",
    "        mse.append(error)  \n",
    "        print('Best ARIMA%s RMSE=%.2f' % (pdq,error))"
   ]
  },
  {
   "cell_type": "markdown",
   "id": "0ace572f",
   "metadata": {},
   "source": [
    " (3,3,2) is the best value"
   ]
  },
  {
   "cell_type": "code",
   "execution_count": 144,
   "id": "c279d2cf",
   "metadata": {},
   "outputs": [],
   "source": [
    "model=sm.tsa.arima.ARIMA(train,order=(3,3,2)).fit()"
   ]
  },
  {
   "cell_type": "code",
   "execution_count": 145,
   "id": "36a72538",
   "metadata": {},
   "outputs": [
    {
     "data": {
      "text/plain": [
       "(72, 95)"
      ]
     },
     "execution_count": 145,
     "metadata": {},
     "output_type": "execute_result"
    }
   ],
   "source": [
    "len(train),(len(air)-1)"
   ]
  },
  {
   "cell_type": "code",
   "execution_count": 146,
   "id": "3e015531",
   "metadata": {},
   "outputs": [],
   "source": [
    "pred = model.predict(start=len(train),end=(len(air)-1))"
   ]
  },
  {
   "cell_type": "code",
   "execution_count": 147,
   "id": "013985a7",
   "metadata": {
    "scrolled": true
   },
   "outputs": [
    {
     "data": {
      "text/plain": [
       "2001-01-01    15.265461\n",
       "2001-02-01    15.247183\n",
       "2001-03-01    15.536962\n",
       "2001-04-01    15.662460\n",
       "2001-05-01    15.830345\n",
       "2001-06-01    15.977638\n",
       "2001-07-01    16.149523\n",
       "2001-08-01    16.286475\n",
       "2001-09-01    16.449491\n",
       "2001-10-01    16.588050\n",
       "2001-11-01    16.741054\n",
       "2001-12-01    16.877791\n",
       "2002-01-01    17.023580\n",
       "2002-02-01    17.157241\n",
       "2002-03-01    17.296365\n",
       "2002-04-01    17.426474\n",
       "2002-05-01    17.559452\n",
       "2002-06-01    17.685527\n",
       "2002-07-01    17.812749\n",
       "2002-08-01    17.934484\n",
       "2002-09-01    18.056198\n",
       "2002-10-01    18.173389\n",
       "2002-11-01    18.289764\n",
       "2002-12-01    18.402270\n",
       "Freq: MS, Name: predicted_mean, dtype: float64"
      ]
     },
     "execution_count": 147,
     "metadata": {},
     "output_type": "execute_result"
    }
   ],
   "source": [
    "pred"
   ]
  },
  {
   "cell_type": "code",
   "execution_count": 148,
   "id": "21f5d024",
   "metadata": {},
   "outputs": [
    {
     "data": {
      "text/plain": [
       "1.3218955552739549"
      ]
     },
     "execution_count": 148,
     "metadata": {},
     "output_type": "execute_result"
    }
   ],
   "source": [
    "err = np.sqrt(mean_squared_error(test,pred))\n",
    "err"
   ]
  },
  {
   "cell_type": "code",
   "execution_count": 149,
   "id": "fbef4ac1",
   "metadata": {
    "scrolled": true
   },
   "outputs": [
    {
     "data": {
      "text/plain": [
       "<AxesSubplot:xlabel='Month'>"
      ]
     },
     "execution_count": 149,
     "metadata": {},
     "output_type": "execute_result"
    },
    {
     "data": {
      "image/png": "[encoded data removed]",
      "text/plain": [
       "<Figure size 720x432 with 1 Axes>"
      ]
     },
     "metadata": {
      "needs_background": "light"
     },
     "output_type": "display_data"
    },
    {
     "data": {
      "image/png": "[encoded data removed]",
      "text/plain": [
       "<Figure size 432x288 with 1 Axes>"
      ]
     },
     "metadata": {
      "needs_background": "light"
     },
     "output_type": "display_data"
    }
   ],
   "source": [
    "train.plot(legend=True,label='Train',figsize=(10,6))\n",
    "test.plot(legend=True,label='Test')\n",
    "pred.plot(legend=True,label='Predicted')"
   ]
  },
  {
   "cell_type": "markdown",
   "id": "8cbd7088",
   "metadata": {},
   "source": [
    "# Final Model"
   ]
  },
  {
   "cell_type": "code",
   "execution_count": 158,
   "id": "6c40d469",
   "metadata": {},
   "outputs": [],
   "source": [
    "model=sm.tsa.arima.ARIMA(air,order=(3,3,2)).fit()"
   ]
  },
  {
   "cell_type": "code",
   "execution_count": 159,
   "id": "0b3793bf",
   "metadata": {},
   "outputs": [
    {
     "data": {
      "text/plain": [
       "2003-01-01    321.821660\n",
       "2003-02-01    318.747841\n",
       "2003-03-01    333.133428\n",
       "2003-04-01    341.527485\n",
       "2003-05-01    351.643112\n",
       "2003-06-01    359.179591\n",
       "2003-07-01    370.195687\n",
       "2003-08-01    378.164022\n",
       "2003-09-01    388.441097\n",
       "2003-10-01    396.926302\n",
       "2003-11-01    406.980360\n",
       "2003-12-01    415.687974\n",
       "Freq: MS, Name: predicted_mean, dtype: float64"
      ]
     },
     "execution_count": 159,
     "metadata": {},
     "output_type": "execute_result"
    }
   ],
   "source": [
    "model.forecast(steps=12)"
   ]
  },
  {
   "cell_type": "markdown",
   "id": "31a69baf",
   "metadata": {},
   "source": [
    "The RMSE value is 1.3218955552739549 and we have used ARIMA model."
   ]
  },
  {
   "cell_type": "code",
   "execution_count": null,
   "id": "09c3e81b",
   "metadata": {},
   "outputs": [],
   "source": []
  }
 ],
 "metadata": {
  "kernelspec": {
   "display_name": "Python 3 (ipykernel)",
   "language": "python",
   "name": "python3"
  },
  "language_info": {
   "codemirror_mode": {
    "name": "ipython",
    "version": 3
   },
   "file_extension": ".py",
   "mimetype": "text/x-python",
   "name": "python",
   "nbconvert_exporter": "python",
   "pygments_lexer": "ipython3",
   "version": "3.9.12"
  }
 },
 "nbformat": 4,
 "nbformat_minor": 5
}
